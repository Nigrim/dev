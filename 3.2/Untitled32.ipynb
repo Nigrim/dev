{
  "nbformat": 4,
  "nbformat_minor": 0,
  "metadata": {
    "colab": {
      "provenance": []
    },
    "kernelspec": {
      "name": "python3",
      "display_name": "Python 3"
    },
    "language_info": {
      "name": "python"
    }
  },
  "cells": [
    {
      "cell_type": "markdown",
      "source": [
        "Напишите функцию, которая будет принимать на вход длину стороны квадрата и выводить на экран площадь квадрата и его периметр."
      ],
      "metadata": {
        "id": "wtE0xZWancVU"
      }
    },
    {
      "cell_type": "code",
      "execution_count": 1,
      "metadata": {
        "colab": {
          "base_uri": "https://localhost:8080/"
        },
        "id": "n5okN7MCkU6e",
        "outputId": "31412ee8-5e0f-4290-9fd0-8dd87fe16c38"
      },
      "outputs": [
        {
          "output_type": "stream",
          "name": "stdout",
          "text": [
            "Введите длину стороны квадрата: 5\n",
            "Площадь квадрата: 25.0\n",
            "Периметр квадрата: 20.0\n"
          ]
        }
      ],
      "source": [
        "def square_params(side_len):\n",
        "    try:\n",
        "        side_len = float(side_len)\n",
        "        if side_len < 0:\n",
        "            raise ValueError(\"Длина стороны не может быть отрицательной.\")\n",
        "    except ValueError:\n",
        "        print('Ошибка: Недопустимый формат аргумента функции square_params.')\n",
        "        return\n",
        "\n",
        "    area = side_len * side_len\n",
        "    perimeter = 4.0 * side_len\n",
        "\n",
        "    print('Площадь квадрата: {}'.format(area))\n",
        "    print('Периметр квадрата: {}'.format(perimeter))\n",
        "\n",
        "# Пример использования:\n",
        "side_length = input('Введите длину стороны квадрата: ')\n",
        "square_params(side_length)"
      ]
    },
    {
      "cell_type": "markdown",
      "source": [
        "Напишите функцию, которая будет принимать два числа и считать сумму квадратов этих двух чисел, запишите своё вычисление в переменную squared."
      ],
      "metadata": {
        "id": "32Tu-844neTf"
      }
    },
    {
      "cell_type": "code",
      "source": [
        "def sum_of_squares(a, b):\n",
        "    try:\n",
        "        a = float(a)\n",
        "        b = float(b)\n",
        "    except:\n",
        "        print('Недопустимый аргумент функции sum_of_squares.')\n",
        "        return\n",
        "\n",
        "    return a*a + b*b\n",
        "squared = sum_of_squares(9, 12)\n",
        "print(squared)"
      ],
      "metadata": {
        "colab": {
          "base_uri": "https://localhost:8080/"
        },
        "id": "JMIytKsUncqQ",
        "outputId": "7658a2a6-9c16-43d6-c6f0-4d070c9ba8df"
      },
      "execution_count": 2,
      "outputs": [
        {
          "output_type": "stream",
          "name": "stdout",
          "text": [
            "225.0\n"
          ]
        }
      ]
    },
    {
      "cell_type": "markdown",
      "source": [
        "Напишите функцию, которая будет принимать на вход список [“male“,“male“,“female“,“male“,“male“,“female“,”female“] и возвращать его в обратном порядке. Запишите список в переменную new_list."
      ],
      "metadata": {
        "id": "rcm902Mkn5Yc"
      }
    },
    {
      "cell_type": "code",
      "source": [
        "def reverse_list(input_list):\n",
        "    return input_list[::-1]\n",
        "\n",
        "original_list = [\"male\", \"male\", \"female\", \"male\", \"male\", \"female\", \"female\"]\n",
        "new_list = reverse_list(original_list)\n",
        "\n",
        "print(new_list)"
      ],
      "metadata": {
        "colab": {
          "base_uri": "https://localhost:8080/"
        },
        "id": "2GcVRpgfn_Aw",
        "outputId": "be674d0e-8554-493e-a028-665347e8af95"
      },
      "execution_count": 3,
      "outputs": [
        {
          "output_type": "stream",
          "name": "stdout",
          "text": [
            "['female', 'female', 'male', 'male', 'female', 'male', 'male']\n"
          ]
        }
      ]
    },
    {
      "cell_type": "markdown",
      "source": [
        "Напишите функцию, которая будет принимать на вход список из предыдущего задания(new_list) и выводить на экран количество мужчин или количество женщин в зависимости от требований пользователя.\n",
        "\n",
        "Подсказка: вам необходимо добавить еще один параметр в описание функции"
      ],
      "metadata": {
        "id": "AZqHGMr4oRRM"
      }
    },
    {
      "cell_type": "code",
      "source": [
        "def mf_count(lst, is_female):\n",
        "    if not isinstance(lst, list):\n",
        "        print('Ошибка: Аргумент должен быть списком.')\n",
        "        return\n",
        "\n",
        "    valid_genders = {'male', 'female'}\n",
        "    if not all(gender in valid_genders for gender in lst):\n",
        "        print('Ошибка: Список содержит недопустимые элементы.')\n",
        "        return\n",
        "\n",
        "    count = lst.count('female' if is_female else 'male')\n",
        "    print(f\"Количество {'женщин' if is_female else 'мужчин'}: {count}\")\n",
        "\n",
        "# Пример использования:\n",
        "original_list = [\"male\", \"male\", \"female\", \"male\", \"male\", \"female\", \"female\"]\n",
        "new_list = reverse_list(original_list)\n",
        "\n",
        "mf_count(new_list, True)"
      ],
      "metadata": {
        "colab": {
          "base_uri": "https://localhost:8080/"
        },
        "id": "THPXkrB5oSWe",
        "outputId": "66b40ba9-fe13-4425-b5c8-c561f9f50ea9"
      },
      "execution_count": 4,
      "outputs": [
        {
          "output_type": "stream",
          "name": "stdout",
          "text": [
            "Количество женщин: 3\n"
          ]
        }
      ]
    },
    {
      "cell_type": "markdown",
      "source": [
        "Напишите функцию, которая будет принимать строку (Например: “female”), а возвращать словарь где ключи — это символы строки, а значения кол-во символов в строке."
      ],
      "metadata": {
        "id": "ZcEt68Jeom3j"
      }
    },
    {
      "cell_type": "code",
      "source": [
        "def ch_count(in_string):\n",
        "\n",
        "    if type(in_string) != str:\n",
        "        print('Недопустимый аргумент функции ch_count.')\n",
        "        return\n",
        "\n",
        "    sym_set = { ch for ch in in_string }\n",
        "    sym_dict = dict.fromkeys(sym_set)\n",
        "\n",
        "    for ch in sym_set:\n",
        "        sym_dict[ch] = in_string.count(ch)\n",
        "    return sym_dict\n",
        "print(ch_count('female male'))"
      ],
      "metadata": {
        "colab": {
          "base_uri": "https://localhost:8080/"
        },
        "id": "3zeMkTjuooIF",
        "outputId": "970da34c-a25a-4627-bfc8-8efb1b46cec8"
      },
      "execution_count": 9,
      "outputs": [
        {
          "output_type": "stream",
          "name": "stdout",
          "text": [
            "{'l': 2, 'f': 1, 'm': 2, 'a': 2, ' ': 1, 'e': 3}\n"
          ]
        }
      ]
    },
    {
      "cell_type": "markdown",
      "source": [
        "2 вариант:"
      ],
      "metadata": {
        "id": "o6FSXYBhpUBs"
      }
    },
    {
      "cell_type": "code",
      "source": [
        "from collections import Counter\n",
        "\n",
        "def ch_count(in_string):\n",
        "    if not isinstance(in_string, str):\n",
        "        print('Ошибка: Аргумент должен быть строкой.')\n",
        "        return\n",
        "\n",
        "    sym_dict = dict(Counter(in_string))\n",
        "    return sym_dict\n",
        "\n",
        "result_dict = ch_count('female male')\n",
        "print(result_dict)"
      ],
      "metadata": {
        "colab": {
          "base_uri": "https://localhost:8080/"
        },
        "id": "J9AK0ivjpWj9",
        "outputId": "e58127f4-94ec-4a0e-a986-27f734214111"
      },
      "execution_count": 8,
      "outputs": [
        {
          "output_type": "stream",
          "name": "stdout",
          "text": [
            "{'f': 1, 'e': 3, 'm': 2, 'a': 2, 'l': 2, ' ': 1}\n"
          ]
        }
      ]
    }
  ]
}