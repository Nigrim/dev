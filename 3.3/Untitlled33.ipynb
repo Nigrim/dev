{
  "cells": [
    {
      "cell_type": "code",
      "execution_count": null,
      "metadata": {
        "ExecuteTime": {
          "end_time": "2023-07-22T06:19:47.936691900Z",
          "start_time": "2023-07-22T06:19:46.954495300Z"
        },
        "id": "_ru_zgO24hS3"
      },
      "outputs": [],
      "source": [
        "import requests\n",
        "import pandas as pd\n",
        "import psycopg2\n",
        "import matplotlib.pyplot as plt"
      ],
      "id": "_ru_zgO24hS3"
    },
    {
      "cell_type": "code",
      "execution_count": null,
      "id": "c845b916-0c4c-4a7a-ba77-14d6a5b70ae1",
      "metadata": {
        "ExecuteTime": {
          "end_time": "2023-07-22T06:19:47.951134300Z",
          "start_time": "2023-07-22T06:19:47.939885400Z"
        },
        "id": "c845b916-0c4c-4a7a-ba77-14d6a5b70ae1"
      },
      "outputs": [],
      "source": [
        "start_date = '2023-06-01'\n",
        "end_date = '2023-06-30'\n",
        "base = 'BTC'\n",
        "symbols = 'RUB'\n",
        "format = 'CSV'"
      ]
    },
    {
      "cell_type": "markdown",
      "metadata": {
        "collapsed": false,
        "id": "Xu7J9c-E4hS6"
      },
      "source": [
        "Создадим переменную response и запишем в нее ответ сервера. Сохраним результат в формате *.csv."
      ],
      "id": "Xu7J9c-E4hS6"
    },
    {
      "cell_type": "code",
      "execution_count": null,
      "id": "b47c608a-2d65-44a1-986d-64b38742c7b2",
      "metadata": {
        "ExecuteTime": {
          "end_time": "2023-07-22T06:20:30.413132200Z",
          "start_time": "2023-07-22T06:19:47.954251100Z"
        },
        "id": "b47c608a-2d65-44a1-986d-64b38742c7b2"
      },
      "outputs": [],
      "source": [
        "response = requests.get('https://api.exchangerate.host/timeseries?',\n",
        "                            params={'base': base,\n",
        "                                    'start_date': start_date,\n",
        "                                    'end_date': end_date,\n",
        "                                    'symbols': symbols,\n",
        "                                    'format': format\n",
        "                            })\n",
        "\n",
        "with open('./csv_files/exchange_june2023.csv', 'wb') as f:\n",
        "    f.write(response.content)"
      ]
    },
    {
      "cell_type": "markdown",
      "metadata": {
        "collapsed": false,
        "id": "Pve8MNEm4hS8"
      },
      "source": [
        "Замена разделителя десятичных знаков с \",\" на \".\", для корректной загрузки в базу данных."
      ],
      "id": "Pve8MNEm4hS8"
    },
    {
      "cell_type": "code",
      "execution_count": null,
      "metadata": {
        "ExecuteTime": {
          "end_time": "2023-07-22T06:20:30.472091700Z",
          "start_time": "2023-07-22T06:20:30.417131800Z"
        },
        "id": "lW-CdAa74hS9",
        "outputId": "cd060121-e437-405b-853f-650caa2609a7"
      },
      "outputs": [
        {
          "data": {
            "text/html": [
              "<div>\n",
              "<style scoped>\n",
              "    .dataframe tbody tr th:only-of-type {\n",
              "        vertical-align: middle;\n",
              "    }\n",
              "\n",
              "    .dataframe tbody tr th {\n",
              "        vertical-align: top;\n",
              "    }\n",
              "\n",
              "    .dataframe thead th {\n",
              "        text-align: right;\n",
              "    }\n",
              "</style>\n",
              "<table border=\"1\" class=\"dataframe\">\n",
              "  <thead>\n",
              "    <tr style=\"text-align: right;\">\n",
              "      <th></th>\n",
              "      <th>date</th>\n",
              "      <th>code</th>\n",
              "      <th>rate</th>\n",
              "      <th>base</th>\n",
              "      <th>start_date</th>\n",
              "      <th>end_date</th>\n",
              "    </tr>\n",
              "  </thead>\n",
              "  <tbody>\n",
              "    <tr>\n",
              "      <th>0</th>\n",
              "      <td>2023-06-01</td>\n",
              "      <td>RUB</td>\n",
              "      <td>2.180140e+06</td>\n",
              "      <td>BTC</td>\n",
              "      <td>2023-06-01</td>\n",
              "      <td>2023-06-30</td>\n",
              "    </tr>\n",
              "    <tr>\n",
              "      <th>1</th>\n",
              "      <td>2023-06-02</td>\n",
              "      <td>RUB</td>\n",
              "      <td>2.219636e+06</td>\n",
              "      <td>BTC</td>\n",
              "      <td>2023-06-01</td>\n",
              "      <td>2023-06-30</td>\n",
              "    </tr>\n",
              "    <tr>\n",
              "      <th>2</th>\n",
              "      <td>2023-06-03</td>\n",
              "      <td>RUB</td>\n",
              "      <td>2.164137e+06</td>\n",
              "      <td>BTC</td>\n",
              "      <td>2023-06-01</td>\n",
              "      <td>2023-06-30</td>\n",
              "    </tr>\n",
              "    <tr>\n",
              "      <th>3</th>\n",
              "      <td>2023-06-04</td>\n",
              "      <td>RUB</td>\n",
              "      <td>2.216854e+06</td>\n",
              "      <td>BTC</td>\n",
              "      <td>2023-06-01</td>\n",
              "      <td>2023-06-30</td>\n",
              "    </tr>\n",
              "    <tr>\n",
              "      <th>4</th>\n",
              "      <td>2023-06-05</td>\n",
              "      <td>RUB</td>\n",
              "      <td>2.060827e+06</td>\n",
              "      <td>BTC</td>\n",
              "      <td>2023-06-01</td>\n",
              "      <td>2023-06-30</td>\n",
              "    </tr>\n",
              "    <tr>\n",
              "      <th>5</th>\n",
              "      <td>2023-06-06</td>\n",
              "      <td>RUB</td>\n",
              "      <td>2.231097e+06</td>\n",
              "      <td>BTC</td>\n",
              "      <td>2023-06-01</td>\n",
              "      <td>2023-06-30</td>\n",
              "    </tr>\n",
              "    <tr>\n",
              "      <th>6</th>\n",
              "      <td>2023-06-07</td>\n",
              "      <td>RUB</td>\n",
              "      <td>2.128601e+06</td>\n",
              "      <td>BTC</td>\n",
              "      <td>2023-06-01</td>\n",
              "      <td>2023-06-30</td>\n",
              "    </tr>\n",
              "    <tr>\n",
              "      <th>7</th>\n",
              "      <td>2023-06-08</td>\n",
              "      <td>RUB</td>\n",
              "      <td>2.157652e+06</td>\n",
              "      <td>BTC</td>\n",
              "      <td>2023-06-01</td>\n",
              "      <td>2023-06-30</td>\n",
              "    </tr>\n",
              "    <tr>\n",
              "      <th>8</th>\n",
              "      <td>2023-06-09</td>\n",
              "      <td>RUB</td>\n",
              "      <td>2.168827e+06</td>\n",
              "      <td>BTC</td>\n",
              "      <td>2023-06-01</td>\n",
              "      <td>2023-06-30</td>\n",
              "    </tr>\n",
              "    <tr>\n",
              "      <th>9</th>\n",
              "      <td>2023-06-10</td>\n",
              "      <td>RUB</td>\n",
              "      <td>2.117741e+06</td>\n",
              "      <td>BTC</td>\n",
              "      <td>2023-06-01</td>\n",
              "      <td>2023-06-30</td>\n",
              "    </tr>\n",
              "    <tr>\n",
              "      <th>10</th>\n",
              "      <td>2023-06-11</td>\n",
              "      <td>RUB</td>\n",
              "      <td>2.167889e+06</td>\n",
              "      <td>BTC</td>\n",
              "      <td>2023-06-01</td>\n",
              "      <td>2023-06-30</td>\n",
              "    </tr>\n",
              "    <tr>\n",
              "      <th>11</th>\n",
              "      <td>2023-06-12</td>\n",
              "      <td>RUB</td>\n",
              "      <td>2.147162e+06</td>\n",
              "      <td>BTC</td>\n",
              "      <td>2023-06-01</td>\n",
              "      <td>2023-06-30</td>\n",
              "    </tr>\n",
              "    <tr>\n",
              "      <th>12</th>\n",
              "      <td>2023-06-13</td>\n",
              "      <td>RUB</td>\n",
              "      <td>2.157307e+06</td>\n",
              "      <td>BTC</td>\n",
              "      <td>2023-06-01</td>\n",
              "      <td>2023-06-30</td>\n",
              "    </tr>\n",
              "    <tr>\n",
              "      <th>13</th>\n",
              "      <td>2023-06-14</td>\n",
              "      <td>RUB</td>\n",
              "      <td>2.116073e+06</td>\n",
              "      <td>BTC</td>\n",
              "      <td>2023-06-01</td>\n",
              "      <td>2023-06-30</td>\n",
              "    </tr>\n",
              "    <tr>\n",
              "      <th>14</th>\n",
              "      <td>2023-06-15</td>\n",
              "      <td>RUB</td>\n",
              "      <td>2.125447e+06</td>\n",
              "      <td>BTC</td>\n",
              "      <td>2023-06-01</td>\n",
              "      <td>2023-06-30</td>\n",
              "    </tr>\n",
              "    <tr>\n",
              "      <th>15</th>\n",
              "      <td>2023-06-16</td>\n",
              "      <td>RUB</td>\n",
              "      <td>2.188508e+06</td>\n",
              "      <td>BTC</td>\n",
              "      <td>2023-06-01</td>\n",
              "      <td>2023-06-30</td>\n",
              "    </tr>\n",
              "    <tr>\n",
              "      <th>16</th>\n",
              "      <td>2023-06-17</td>\n",
              "      <td>RUB</td>\n",
              "      <td>2.241900e+06</td>\n",
              "      <td>BTC</td>\n",
              "      <td>2023-06-01</td>\n",
              "      <td>2023-06-30</td>\n",
              "    </tr>\n",
              "    <tr>\n",
              "      <th>17</th>\n",
              "      <td>2023-06-18</td>\n",
              "      <td>RUB</td>\n",
              "      <td>2.228307e+06</td>\n",
              "      <td>BTC</td>\n",
              "      <td>2023-06-01</td>\n",
              "      <td>2023-06-30</td>\n",
              "    </tr>\n",
              "    <tr>\n",
              "      <th>18</th>\n",
              "      <td>2023-06-19</td>\n",
              "      <td>RUB</td>\n",
              "      <td>2.239579e+06</td>\n",
              "      <td>BTC</td>\n",
              "      <td>2023-06-01</td>\n",
              "      <td>2023-06-30</td>\n",
              "    </tr>\n",
              "    <tr>\n",
              "      <th>19</th>\n",
              "      <td>2023-06-20</td>\n",
              "      <td>RUB</td>\n",
              "      <td>2.372939e+06</td>\n",
              "      <td>BTC</td>\n",
              "      <td>2023-06-01</td>\n",
              "      <td>2023-06-30</td>\n",
              "    </tr>\n",
              "    <tr>\n",
              "      <th>20</th>\n",
              "      <td>2023-06-21</td>\n",
              "      <td>RUB</td>\n",
              "      <td>2.572692e+06</td>\n",
              "      <td>BTC</td>\n",
              "      <td>2023-06-01</td>\n",
              "      <td>2023-06-30</td>\n",
              "    </tr>\n",
              "    <tr>\n",
              "      <th>21</th>\n",
              "      <td>2023-06-22</td>\n",
              "      <td>RUB</td>\n",
              "      <td>2.397150e+06</td>\n",
              "      <td>BTC</td>\n",
              "      <td>2023-06-01</td>\n",
              "      <td>2023-06-30</td>\n",
              "    </tr>\n",
              "    <tr>\n",
              "      <th>22</th>\n",
              "      <td>2023-06-23</td>\n",
              "      <td>RUB</td>\n",
              "      <td>2.565455e+06</td>\n",
              "      <td>BTC</td>\n",
              "      <td>2023-06-01</td>\n",
              "      <td>2023-06-30</td>\n",
              "    </tr>\n",
              "    <tr>\n",
              "      <th>23</th>\n",
              "      <td>2023-06-24</td>\n",
              "      <td>RUB</td>\n",
              "      <td>2.565470e+06</td>\n",
              "      <td>BTC</td>\n",
              "      <td>2023-06-01</td>\n",
              "      <td>2023-06-30</td>\n",
              "    </tr>\n",
              "    <tr>\n",
              "      <th>24</th>\n",
              "      <td>2023-06-25</td>\n",
              "      <td>RUB</td>\n",
              "      <td>2.552462e+06</td>\n",
              "      <td>BTC</td>\n",
              "      <td>2023-06-01</td>\n",
              "      <td>2023-06-30</td>\n",
              "    </tr>\n",
              "    <tr>\n",
              "      <th>25</th>\n",
              "      <td>2023-06-26</td>\n",
              "      <td>RUB</td>\n",
              "      <td>2.557698e+06</td>\n",
              "      <td>BTC</td>\n",
              "      <td>2023-06-01</td>\n",
              "      <td>2023-06-30</td>\n",
              "    </tr>\n",
              "    <tr>\n",
              "      <th>26</th>\n",
              "      <td>2023-06-27</td>\n",
              "      <td>RUB</td>\n",
              "      <td>2.598582e+06</td>\n",
              "      <td>BTC</td>\n",
              "      <td>2023-06-01</td>\n",
              "      <td>2023-06-30</td>\n",
              "    </tr>\n",
              "    <tr>\n",
              "      <th>27</th>\n",
              "      <td>2023-06-28</td>\n",
              "      <td>RUB</td>\n",
              "      <td>2.606767e+06</td>\n",
              "      <td>BTC</td>\n",
              "      <td>2023-06-01</td>\n",
              "      <td>2023-06-30</td>\n",
              "    </tr>\n",
              "    <tr>\n",
              "      <th>28</th>\n",
              "      <td>2023-06-29</td>\n",
              "      <td>RUB</td>\n",
              "      <td>2.622276e+06</td>\n",
              "      <td>BTC</td>\n",
              "      <td>2023-06-01</td>\n",
              "      <td>2023-06-30</td>\n",
              "    </tr>\n",
              "    <tr>\n",
              "      <th>29</th>\n",
              "      <td>2023-06-30</td>\n",
              "      <td>RUB</td>\n",
              "      <td>2.693521e+06</td>\n",
              "      <td>BTC</td>\n",
              "      <td>2023-06-01</td>\n",
              "      <td>2023-06-30</td>\n",
              "    </tr>\n",
              "  </tbody>\n",
              "</table>\n",
              "</div>"
            ],
            "text/plain": [
              "          date code          rate base  start_date    end_date\n",
              "0   2023-06-01  RUB  2.180140e+06  BTC  2023-06-01  2023-06-30\n",
              "1   2023-06-02  RUB  2.219636e+06  BTC  2023-06-01  2023-06-30\n",
              "2   2023-06-03  RUB  2.164137e+06  BTC  2023-06-01  2023-06-30\n",
              "3   2023-06-04  RUB  2.216854e+06  BTC  2023-06-01  2023-06-30\n",
              "4   2023-06-05  RUB  2.060827e+06  BTC  2023-06-01  2023-06-30\n",
              "5   2023-06-06  RUB  2.231097e+06  BTC  2023-06-01  2023-06-30\n",
              "6   2023-06-07  RUB  2.128601e+06  BTC  2023-06-01  2023-06-30\n",
              "7   2023-06-08  RUB  2.157652e+06  BTC  2023-06-01  2023-06-30\n",
              "8   2023-06-09  RUB  2.168827e+06  BTC  2023-06-01  2023-06-30\n",
              "9   2023-06-10  RUB  2.117741e+06  BTC  2023-06-01  2023-06-30\n",
              "10  2023-06-11  RUB  2.167889e+06  BTC  2023-06-01  2023-06-30\n",
              "11  2023-06-12  RUB  2.147162e+06  BTC  2023-06-01  2023-06-30\n",
              "12  2023-06-13  RUB  2.157307e+06  BTC  2023-06-01  2023-06-30\n",
              "13  2023-06-14  RUB  2.116073e+06  BTC  2023-06-01  2023-06-30\n",
              "14  2023-06-15  RUB  2.125447e+06  BTC  2023-06-01  2023-06-30\n",
              "15  2023-06-16  RUB  2.188508e+06  BTC  2023-06-01  2023-06-30\n",
              "16  2023-06-17  RUB  2.241900e+06  BTC  2023-06-01  2023-06-30\n",
              "17  2023-06-18  RUB  2.228307e+06  BTC  2023-06-01  2023-06-30\n",
              "18  2023-06-19  RUB  2.239579e+06  BTC  2023-06-01  2023-06-30\n",
              "19  2023-06-20  RUB  2.372939e+06  BTC  2023-06-01  2023-06-30\n",
              "20  2023-06-21  RUB  2.572692e+06  BTC  2023-06-01  2023-06-30\n",
              "21  2023-06-22  RUB  2.397150e+06  BTC  2023-06-01  2023-06-30\n",
              "22  2023-06-23  RUB  2.565455e+06  BTC  2023-06-01  2023-06-30\n",
              "23  2023-06-24  RUB  2.565470e+06  BTC  2023-06-01  2023-06-30\n",
              "24  2023-06-25  RUB  2.552462e+06  BTC  2023-06-01  2023-06-30\n",
              "25  2023-06-26  RUB  2.557698e+06  BTC  2023-06-01  2023-06-30\n",
              "26  2023-06-27  RUB  2.598582e+06  BTC  2023-06-01  2023-06-30\n",
              "27  2023-06-28  RUB  2.606767e+06  BTC  2023-06-01  2023-06-30\n",
              "28  2023-06-29  RUB  2.622276e+06  BTC  2023-06-01  2023-06-30\n",
              "29  2023-06-30  RUB  2.693521e+06  BTC  2023-06-01  2023-06-30"
            ]
          },
          "execution_count": 4,
          "metadata": {},
          "output_type": "execute_result"
        }
      ],
      "source": [
        "df = pd.read_csv('./csv_files/exchange_june2023.csv', decimal=',', index_col=False)\n",
        "df = pd.DataFrame(df)\n",
        "df"
      ],
      "id": "lW-CdAa74hS9"
    },
    {
      "cell_type": "markdown",
      "metadata": {
        "collapsed": false,
        "id": "nikjMsIQ4hTA"
      },
      "source": [
        "Сохраним таблицу в файл *.csv."
      ],
      "id": "nikjMsIQ4hTA"
    },
    {
      "cell_type": "code",
      "execution_count": null,
      "metadata": {
        "ExecuteTime": {
          "end_time": "2023-07-22T06:20:30.502551600Z",
          "start_time": "2023-07-22T06:20:30.444984500Z"
        },
        "id": "yxjkqnzK4hTB"
      },
      "outputs": [],
      "source": [
        "df.to_csv('./csv_files/exchange_june2023.csv', index=False)"
      ],
      "id": "yxjkqnzK4hTB"
    },
    {
      "cell_type": "markdown",
      "metadata": {
        "collapsed": false,
        "id": "mMOPzENN4hTC"
      },
      "source": [
        "Подключение к базе Postgres, развернутой в docker-compose:"
      ],
      "id": "mMOPzENN4hTC"
    },
    {
      "cell_type": "code",
      "execution_count": null,
      "id": "2da8d901-3163-4a89-83cb-71b3e122d6ca",
      "metadata": {
        "ExecuteTime": {
          "end_time": "2023-07-22T06:20:30.583822800Z",
          "start_time": "2023-07-22T06:20:30.476101600Z"
        },
        "id": "2da8d901-3163-4a89-83cb-71b3e122d6ca"
      },
      "outputs": [],
      "source": [
        "conn = psycopg2.connect(database='exchange',\n",
        "                        user='postgres',\n",
        "                        password='password',\n",
        "                        host='localhost',\n",
        "                        port=5434)\n",
        "cur = conn.cursor()"
      ]
    },
    {
      "cell_type": "code",
      "execution_count": null,
      "id": "11644ef5-c7be-4689-b340-32c6f2189946",
      "metadata": {
        "ExecuteTime": {
          "end_time": "2023-07-22T06:20:30.584387100Z",
          "start_time": "2023-07-22T06:20:30.508557400Z"
        },
        "id": "11644ef5-c7be-4689-b340-32c6f2189946"
      },
      "outputs": [],
      "source": [
        "cur.execute(\"\"\"\n",
        "CREATE TABLE exchange_june2023(\n",
        "    date DATE PRIMARY KEY,\n",
        "    exchange_id VARCHAR,\n",
        "    exchange_rate DECIMAL,\n",
        "    base_exchange VARCHAR,\n",
        "    start_date DATE,\n",
        "    end_date DATE\n",
        ")\n",
        "\"\"\")"
      ]
    },
    {
      "cell_type": "markdown",
      "metadata": {
        "collapsed": false,
        "id": "GJAaR_544hTE"
      },
      "source": [
        "Заполнение таблицы данными"
      ],
      "id": "GJAaR_544hTE"
    },
    {
      "cell_type": "code",
      "execution_count": null,
      "id": "234e08d5-003c-404c-9ece-0241f55f419c",
      "metadata": {
        "ExecuteTime": {
          "end_time": "2023-07-22T06:20:30.584894200Z",
          "start_time": "2023-07-22T06:20:30.541674500Z"
        },
        "id": "234e08d5-003c-404c-9ece-0241f55f419c"
      },
      "outputs": [],
      "source": [
        "cur.execute(\"\"\"COPY exchange_june2023\n",
        "FROM '/docker-entrypoint-initdb.d/csv_files/exchange_june2023.csv'\n",
        "DELIMITER ','\n",
        "CSV HEADER;\"\"\")\n",
        "conn.commit()"
      ]
    },
    {
      "cell_type": "code",
      "execution_count": null,
      "id": "37e8a365-b693-47c4-85dc-a1c812edee81",
      "metadata": {
        "ExecuteTime": {
          "end_time": "2023-07-22T06:20:30.586452600Z",
          "start_time": "2023-07-22T06:20:30.570614500Z"
        },
        "id": "37e8a365-b693-47c4-85dc-a1c812edee81",
        "outputId": "51c78f44-715b-4529-fdb3-e99287a540ae"
      },
      "outputs": [
        {
          "name": "stdout",
          "output_type": "stream",
          "text": [
            "(datetime.date(2023, 6, 1), 'RUB', Decimal('2180140.15'), 'BTC', datetime.date(2023, 6, 1), datetime.date(2023, 6, 30))\n"
          ]
        }
      ],
      "source": [
        "cur.execute(\"\"\"select * from exchange_june2023;\"\"\")\n",
        "print(cur.fetchone())\n",
        "conn.commit()"
      ]
    },
    {
      "cell_type": "markdown",
      "metadata": {
        "collapsed": false,
        "id": "cFdaRY3Q4hTG"
      },
      "source": [
        "Создание таблицы c результатами по курсу биткоина (BTC):\n",
        "   - день, в который значение курса было максимальным (date_max_rate);\n",
        "   - максимальное значение курса (max_val_rate);\n",
        "   - день, в который значение курса было минимальным, (date_min_rate);\n",
        "   - минимальное значение курса (min_val_rate);\n",
        "   - среднее значение курса за весь месяц, (avg_rate);\n",
        "   - значение курса на последний день месяца. (last_date_rate)."
      ],
      "id": "cFdaRY3Q4hTG"
    },
    {
      "cell_type": "code",
      "execution_count": null,
      "metadata": {
        "ExecuteTime": {
          "end_time": "2023-07-22T06:20:30.656034900Z",
          "start_time": "2023-07-22T06:20:30.587451Z"
        },
        "id": "KFgOdnhf4hTG"
      },
      "outputs": [],
      "source": [
        "cur.execute(\"\"\"CREATE TABLE result_query AS (SELECT * FROM (SELECT \"date\" date_max_rate, MAX(exchange_rate) max_val_rate\n",
        "\t\t\t\tFROM exchange_june2023\n",
        "\t\t\t\tWHERE exchange_rate = (SELECT MAX(exchange_rate) FROM exchange_june2023)\n",
        "\t\t\t\tGROUP BY \"date\") max_rate\n",
        "CROSS JOIN\n",
        "\t(SELECT \"date\" date_min_rate, MIN(exchange_rate) min_val_rate\n",
        "\tFROM exchange_june2023\n",
        "\tWHERE exchange_rate = (SELECT MIN(exchange_rate) FROM exchange_june2023)\n",
        "\tGROUP BY \"date\") min_rate\n",
        "CROSS JOIN\n",
        "\t(SELECT AVG(exchange_rate) avg_rate FROM exchange_june2023) avg_rate\n",
        "CROSS JOIN\n",
        "\t(SELECT exchange_rate last_date_rate\n",
        "\t\t\t\t\t\tFROM exchange_june2023\n",
        "\t\t\t\t\t\tWHERE \"date\" = '2023-06-30') last_date_rate)\n",
        ";\"\"\")\n",
        "conn.commit()"
      ],
      "id": "KFgOdnhf4hTG"
    },
    {
      "cell_type": "markdown",
      "metadata": {
        "collapsed": false,
        "id": "gltucQT94hTH"
      },
      "source": [
        "Отображение таблицы \"result_query\""
      ],
      "id": "gltucQT94hTH"
    },
    {
      "cell_type": "code",
      "execution_count": null,
      "metadata": {
        "ExecuteTime": {
          "end_time": "2023-07-22T06:20:30.666034Z",
          "start_time": "2023-07-22T06:20:30.618367Z"
        },
        "id": "lQD_okn24hTH",
        "outputId": "06994993-f74b-4e8d-f11b-a5946bea8cd9"
      },
      "outputs": [
        {
          "name": "stdout",
          "output_type": "stream",
          "text": [
            "[(datetime.date(2023, 6, 30), Decimal('2693520.583333'), datetime.date(2023, 6, 5), Decimal('2060826.642857'), Decimal('2312089.860954800000'), Decimal('2693520.583333'))]\n"
          ]
        }
      ],
      "source": [
        "cur.execute(\"\"\"select * from result_query;\"\"\")\n",
        "print(cur.fetchall())\n",
        "conn.commit()\n",
        "conn.close ()"
      ],
      "id": "lQD_okn24hTH"
    }
  ],
  "metadata": {
    "kernelspec": {
      "display_name": "Python 3 (ipykernel)",
      "language": "python",
      "name": "python3"
    },
    "language_info": {
      "codemirror_mode": {
        "name": "ipython",
        "version": 3
      },
      "file_extension": ".py",
      "mimetype": "text/x-python",
      "name": "python",
      "nbconvert_exporter": "python",
      "pygments_lexer": "ipython3",
      "version": "3.8.16"
    },
    "colab": {
      "provenance": []
    }
  },
  "nbformat": 4,
  "nbformat_minor": 5
}