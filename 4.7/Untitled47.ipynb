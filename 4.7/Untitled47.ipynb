{
  "nbformat": 4,
  "nbformat_minor": 0,
  "metadata": {
    "colab": {
      "provenance": []
    },
    "kernelspec": {
      "name": "python3",
      "display_name": "Python 3"
    },
    "language_info": {
      "name": "python"
    }
  },
  "cells": [
    {
      "cell_type": "code",
      "source": [
        "!pip install findspark"
      ],
      "metadata": {
        "colab": {
          "base_uri": "https://localhost:8080/"
        },
        "id": "YCqniy0uCj1Y",
        "outputId": "9e80bff2-e506-45f9-ba03-0ee42d985f02"
      },
      "execution_count": 3,
      "outputs": [
        {
          "output_type": "stream",
          "name": "stdout",
          "text": [
            "Collecting findspark\n",
            "  Downloading findspark-2.0.1-py2.py3-none-any.whl (4.4 kB)\n",
            "Installing collected packages: findspark\n",
            "Successfully installed findspark-2.0.1\n"
          ]
        }
      ]
    },
    {
      "cell_type": "code",
      "source": [
        "# Установка PySpark в Google Colab\n",
        "!pip install pyspark\n",
        "\n",
        "# Импорт необходимых библиотек\n",
        "from pyspark.sql import SparkSession\n",
        "from pyspark.sql.functions import *\n",
        "import datetime as dt\n",
        "\n",
        "# Создание сеанса Spark\n",
        "spark = SparkSession.builder.master(\"local[*]\").getOrCreate()\n",
        "\n",
        "# Пример использования spark\n",
        "# ...\n",
        "\n",
        "# Закрытие сессии Spark (необязательно, так как Colab автоматически завершает сессии)\n",
        "# spark.stop()\n"
      ],
      "metadata": {
        "colab": {
          "base_uri": "https://localhost:8080/"
        },
        "id": "Dgko4aU0DGI9",
        "outputId": "e2528b53-5d08-4ddc-8ddc-fafac99a8b33"
      },
      "execution_count": 5,
      "outputs": [
        {
          "output_type": "stream",
          "name": "stdout",
          "text": [
            "Collecting pyspark\n",
            "  Downloading pyspark-3.5.0.tar.gz (316.9 MB)\n",
            "\u001b[2K     \u001b[90m━━━━━━━━━━━━━━━━━━━━━━━━━━━━━━━━━━━━━━━━\u001b[0m \u001b[32m316.9/316.9 MB\u001b[0m \u001b[31m3.8 MB/s\u001b[0m eta \u001b[36m0:00:00\u001b[0m\n",
            "\u001b[?25h  Preparing metadata (setup.py) ... \u001b[?25l\u001b[?25hdone\n",
            "Requirement already satisfied: py4j==0.10.9.7 in /usr/local/lib/python3.10/dist-packages (from pyspark) (0.10.9.7)\n",
            "Building wheels for collected packages: pyspark\n",
            "  Building wheel for pyspark (setup.py) ... \u001b[?25l\u001b[?25hdone\n",
            "  Created wheel for pyspark: filename=pyspark-3.5.0-py2.py3-none-any.whl size=317425345 sha256=7f09396234e54454fb943c998624413e91d1449af567cda756823bc03e40bb5e\n",
            "  Stored in directory: /root/.cache/pip/wheels/41/4e/10/c2cf2467f71c678cfc8a6b9ac9241e5e44a01940da8fbb17fc\n",
            "Successfully built pyspark\n",
            "Installing collected packages: pyspark\n",
            "Successfully installed pyspark-3.5.0\n"
          ]
        }
      ]
    },
    {
      "cell_type": "code",
      "execution_count": 6,
      "metadata": {
        "id": "assUbo20CGWj"
      },
      "outputs": [],
      "source": [
        "import findspark\n",
        "findspark.init()\n",
        "from pyspark.sql import SparkSession\n",
        "from pyspark.sql.functions import *\n",
        "import datetime as dt"
      ]
    },
    {
      "cell_type": "code",
      "source": [
        "from google.colab import files\n",
        "uploaded = files.upload()"
      ],
      "metadata": {
        "colab": {
          "base_uri": "https://localhost:8080/",
          "height": 73
        },
        "id": "TDA6YxBODm7D",
        "outputId": "c5eb0535-8241-4373-cd0c-eda331398e63"
      },
      "execution_count": 8,
      "outputs": [
        {
          "output_type": "display_data",
          "data": {
            "text/plain": [
              "<IPython.core.display.HTML object>"
            ],
            "text/html": [
              "\n",
              "     <input type=\"file\" id=\"files-923d4065-fbe3-4462-87f1-e36810dbc0bf\" name=\"files[]\" multiple disabled\n",
              "        style=\"border:none\" />\n",
              "     <output id=\"result-923d4065-fbe3-4462-87f1-e36810dbc0bf\">\n",
              "      Upload widget is only available when the cell has been executed in the\n",
              "      current browser session. Please rerun this cell to enable.\n",
              "      </output>\n",
              "      <script>// Copyright 2017 Google LLC\n",
              "//\n",
              "// Licensed under the Apache License, Version 2.0 (the \"License\");\n",
              "// you may not use this file except in compliance with the License.\n",
              "// You may obtain a copy of the License at\n",
              "//\n",
              "//      http://www.apache.org/licenses/LICENSE-2.0\n",
              "//\n",
              "// Unless required by applicable law or agreed to in writing, software\n",
              "// distributed under the License is distributed on an \"AS IS\" BASIS,\n",
              "// WITHOUT WARRANTIES OR CONDITIONS OF ANY KIND, either express or implied.\n",
              "// See the License for the specific language governing permissions and\n",
              "// limitations under the License.\n",
              "\n",
              "/**\n",
              " * @fileoverview Helpers for google.colab Python module.\n",
              " */\n",
              "(function(scope) {\n",
              "function span(text, styleAttributes = {}) {\n",
              "  const element = document.createElement('span');\n",
              "  element.textContent = text;\n",
              "  for (const key of Object.keys(styleAttributes)) {\n",
              "    element.style[key] = styleAttributes[key];\n",
              "  }\n",
              "  return element;\n",
              "}\n",
              "\n",
              "// Max number of bytes which will be uploaded at a time.\n",
              "const MAX_PAYLOAD_SIZE = 100 * 1024;\n",
              "\n",
              "function _uploadFiles(inputId, outputId) {\n",
              "  const steps = uploadFilesStep(inputId, outputId);\n",
              "  const outputElement = document.getElementById(outputId);\n",
              "  // Cache steps on the outputElement to make it available for the next call\n",
              "  // to uploadFilesContinue from Python.\n",
              "  outputElement.steps = steps;\n",
              "\n",
              "  return _uploadFilesContinue(outputId);\n",
              "}\n",
              "\n",
              "// This is roughly an async generator (not supported in the browser yet),\n",
              "// where there are multiple asynchronous steps and the Python side is going\n",
              "// to poll for completion of each step.\n",
              "// This uses a Promise to block the python side on completion of each step,\n",
              "// then passes the result of the previous step as the input to the next step.\n",
              "function _uploadFilesContinue(outputId) {\n",
              "  const outputElement = document.getElementById(outputId);\n",
              "  const steps = outputElement.steps;\n",
              "\n",
              "  const next = steps.next(outputElement.lastPromiseValue);\n",
              "  return Promise.resolve(next.value.promise).then((value) => {\n",
              "    // Cache the last promise value to make it available to the next\n",
              "    // step of the generator.\n",
              "    outputElement.lastPromiseValue = value;\n",
              "    return next.value.response;\n",
              "  });\n",
              "}\n",
              "\n",
              "/**\n",
              " * Generator function which is called between each async step of the upload\n",
              " * process.\n",
              " * @param {string} inputId Element ID of the input file picker element.\n",
              " * @param {string} outputId Element ID of the output display.\n",
              " * @return {!Iterable<!Object>} Iterable of next steps.\n",
              " */\n",
              "function* uploadFilesStep(inputId, outputId) {\n",
              "  const inputElement = document.getElementById(inputId);\n",
              "  inputElement.disabled = false;\n",
              "\n",
              "  const outputElement = document.getElementById(outputId);\n",
              "  outputElement.innerHTML = '';\n",
              "\n",
              "  const pickedPromise = new Promise((resolve) => {\n",
              "    inputElement.addEventListener('change', (e) => {\n",
              "      resolve(e.target.files);\n",
              "    });\n",
              "  });\n",
              "\n",
              "  const cancel = document.createElement('button');\n",
              "  inputElement.parentElement.appendChild(cancel);\n",
              "  cancel.textContent = 'Cancel upload';\n",
              "  const cancelPromise = new Promise((resolve) => {\n",
              "    cancel.onclick = () => {\n",
              "      resolve(null);\n",
              "    };\n",
              "  });\n",
              "\n",
              "  // Wait for the user to pick the files.\n",
              "  const files = yield {\n",
              "    promise: Promise.race([pickedPromise, cancelPromise]),\n",
              "    response: {\n",
              "      action: 'starting',\n",
              "    }\n",
              "  };\n",
              "\n",
              "  cancel.remove();\n",
              "\n",
              "  // Disable the input element since further picks are not allowed.\n",
              "  inputElement.disabled = true;\n",
              "\n",
              "  if (!files) {\n",
              "    return {\n",
              "      response: {\n",
              "        action: 'complete',\n",
              "      }\n",
              "    };\n",
              "  }\n",
              "\n",
              "  for (const file of files) {\n",
              "    const li = document.createElement('li');\n",
              "    li.append(span(file.name, {fontWeight: 'bold'}));\n",
              "    li.append(span(\n",
              "        `(${file.type || 'n/a'}) - ${file.size} bytes, ` +\n",
              "        `last modified: ${\n",
              "            file.lastModifiedDate ? file.lastModifiedDate.toLocaleDateString() :\n",
              "                                    'n/a'} - `));\n",
              "    const percent = span('0% done');\n",
              "    li.appendChild(percent);\n",
              "\n",
              "    outputElement.appendChild(li);\n",
              "\n",
              "    const fileDataPromise = new Promise((resolve) => {\n",
              "      const reader = new FileReader();\n",
              "      reader.onload = (e) => {\n",
              "        resolve(e.target.result);\n",
              "      };\n",
              "      reader.readAsArrayBuffer(file);\n",
              "    });\n",
              "    // Wait for the data to be ready.\n",
              "    let fileData = yield {\n",
              "      promise: fileDataPromise,\n",
              "      response: {\n",
              "        action: 'continue',\n",
              "      }\n",
              "    };\n",
              "\n",
              "    // Use a chunked sending to avoid message size limits. See b/62115660.\n",
              "    let position = 0;\n",
              "    do {\n",
              "      const length = Math.min(fileData.byteLength - position, MAX_PAYLOAD_SIZE);\n",
              "      const chunk = new Uint8Array(fileData, position, length);\n",
              "      position += length;\n",
              "\n",
              "      const base64 = btoa(String.fromCharCode.apply(null, chunk));\n",
              "      yield {\n",
              "        response: {\n",
              "          action: 'append',\n",
              "          file: file.name,\n",
              "          data: base64,\n",
              "        },\n",
              "      };\n",
              "\n",
              "      let percentDone = fileData.byteLength === 0 ?\n",
              "          100 :\n",
              "          Math.round((position / fileData.byteLength) * 100);\n",
              "      percent.textContent = `${percentDone}% done`;\n",
              "\n",
              "    } while (position < fileData.byteLength);\n",
              "  }\n",
              "\n",
              "  // All done.\n",
              "  yield {\n",
              "    response: {\n",
              "      action: 'complete',\n",
              "    }\n",
              "  };\n",
              "}\n",
              "\n",
              "scope.google = scope.google || {};\n",
              "scope.google.colab = scope.google.colab || {};\n",
              "scope.google.colab._files = {\n",
              "  _uploadFiles,\n",
              "  _uploadFilesContinue,\n",
              "};\n",
              "})(self);\n",
              "</script> "
            ]
          },
          "metadata": {}
        },
        {
          "output_type": "stream",
          "name": "stdout",
          "text": [
            "Saving online_retail.xlsx to online_retail.xlsx\n"
          ]
        }
      ]
    },
    {
      "cell_type": "code",
      "source": [
        "import pandas as pd\n",
        "from pyspark.sql import SparkSession\n",
        "\n",
        "# Загрузка данных в Pandas DataFrame\n",
        "uploaded = files.upload()\n",
        "\n",
        "# Печать имен загруженных файлов\n",
        "print(uploaded.keys())\n",
        "\n",
        "# Выберите правильное имя файла и используйте его для создания Pandas DataFrame\n",
        "file_name = next(iter(uploaded))\n",
        "df_pandas = pd.read_excel(file_name)\n",
        "\n",
        "# Создание сеанса Spark\n",
        "spark = SparkSession.builder \\\n",
        "    .master(\"local[2]\") \\\n",
        "    .appName(\"SparkFirst\") \\\n",
        "    .config(\"spark.executor.memory\", \"32g\") \\\n",
        "    .config(\"spark.executor.cores\", 4) \\\n",
        "    .config(\"spark.dynamicAllocation.enabled\", \"true\") \\\n",
        "    .config(\"spark.dynamicAllocation.maxExecutors\", 4) \\\n",
        "    .config(\"spark.shuffle.service.enabled\", \"true\") \\\n",
        "    .getOrCreate()\n",
        "\n",
        "# Создание Spark DataFrame из Pandas DataFrame\n",
        "df_spark = spark.createDataFrame(df_pandas)\n",
        "\n",
        "# Ваш DataFrame теперь доступен в df_spark"
      ],
      "metadata": {
        "colab": {
          "base_uri": "https://localhost:8080/",
          "height": 90
        },
        "id": "H7dZ66r_K5Sh",
        "outputId": "93fe37cb-cf24-414e-9312-d383441270d5"
      },
      "execution_count": 17,
      "outputs": [
        {
          "output_type": "display_data",
          "data": {
            "text/plain": [
              "<IPython.core.display.HTML object>"
            ],
            "text/html": [
              "\n",
              "     <input type=\"file\" id=\"files-3a791b8e-f7eb-42e1-8eea-395251776546\" name=\"files[]\" multiple disabled\n",
              "        style=\"border:none\" />\n",
              "     <output id=\"result-3a791b8e-f7eb-42e1-8eea-395251776546\">\n",
              "      Upload widget is only available when the cell has been executed in the\n",
              "      current browser session. Please rerun this cell to enable.\n",
              "      </output>\n",
              "      <script>// Copyright 2017 Google LLC\n",
              "//\n",
              "// Licensed under the Apache License, Version 2.0 (the \"License\");\n",
              "// you may not use this file except in compliance with the License.\n",
              "// You may obtain a copy of the License at\n",
              "//\n",
              "//      http://www.apache.org/licenses/LICENSE-2.0\n",
              "//\n",
              "// Unless required by applicable law or agreed to in writing, software\n",
              "// distributed under the License is distributed on an \"AS IS\" BASIS,\n",
              "// WITHOUT WARRANTIES OR CONDITIONS OF ANY KIND, either express or implied.\n",
              "// See the License for the specific language governing permissions and\n",
              "// limitations under the License.\n",
              "\n",
              "/**\n",
              " * @fileoverview Helpers for google.colab Python module.\n",
              " */\n",
              "(function(scope) {\n",
              "function span(text, styleAttributes = {}) {\n",
              "  const element = document.createElement('span');\n",
              "  element.textContent = text;\n",
              "  for (const key of Object.keys(styleAttributes)) {\n",
              "    element.style[key] = styleAttributes[key];\n",
              "  }\n",
              "  return element;\n",
              "}\n",
              "\n",
              "// Max number of bytes which will be uploaded at a time.\n",
              "const MAX_PAYLOAD_SIZE = 100 * 1024;\n",
              "\n",
              "function _uploadFiles(inputId, outputId) {\n",
              "  const steps = uploadFilesStep(inputId, outputId);\n",
              "  const outputElement = document.getElementById(outputId);\n",
              "  // Cache steps on the outputElement to make it available for the next call\n",
              "  // to uploadFilesContinue from Python.\n",
              "  outputElement.steps = steps;\n",
              "\n",
              "  return _uploadFilesContinue(outputId);\n",
              "}\n",
              "\n",
              "// This is roughly an async generator (not supported in the browser yet),\n",
              "// where there are multiple asynchronous steps and the Python side is going\n",
              "// to poll for completion of each step.\n",
              "// This uses a Promise to block the python side on completion of each step,\n",
              "// then passes the result of the previous step as the input to the next step.\n",
              "function _uploadFilesContinue(outputId) {\n",
              "  const outputElement = document.getElementById(outputId);\n",
              "  const steps = outputElement.steps;\n",
              "\n",
              "  const next = steps.next(outputElement.lastPromiseValue);\n",
              "  return Promise.resolve(next.value.promise).then((value) => {\n",
              "    // Cache the last promise value to make it available to the next\n",
              "    // step of the generator.\n",
              "    outputElement.lastPromiseValue = value;\n",
              "    return next.value.response;\n",
              "  });\n",
              "}\n",
              "\n",
              "/**\n",
              " * Generator function which is called between each async step of the upload\n",
              " * process.\n",
              " * @param {string} inputId Element ID of the input file picker element.\n",
              " * @param {string} outputId Element ID of the output display.\n",
              " * @return {!Iterable<!Object>} Iterable of next steps.\n",
              " */\n",
              "function* uploadFilesStep(inputId, outputId) {\n",
              "  const inputElement = document.getElementById(inputId);\n",
              "  inputElement.disabled = false;\n",
              "\n",
              "  const outputElement = document.getElementById(outputId);\n",
              "  outputElement.innerHTML = '';\n",
              "\n",
              "  const pickedPromise = new Promise((resolve) => {\n",
              "    inputElement.addEventListener('change', (e) => {\n",
              "      resolve(e.target.files);\n",
              "    });\n",
              "  });\n",
              "\n",
              "  const cancel = document.createElement('button');\n",
              "  inputElement.parentElement.appendChild(cancel);\n",
              "  cancel.textContent = 'Cancel upload';\n",
              "  const cancelPromise = new Promise((resolve) => {\n",
              "    cancel.onclick = () => {\n",
              "      resolve(null);\n",
              "    };\n",
              "  });\n",
              "\n",
              "  // Wait for the user to pick the files.\n",
              "  const files = yield {\n",
              "    promise: Promise.race([pickedPromise, cancelPromise]),\n",
              "    response: {\n",
              "      action: 'starting',\n",
              "    }\n",
              "  };\n",
              "\n",
              "  cancel.remove();\n",
              "\n",
              "  // Disable the input element since further picks are not allowed.\n",
              "  inputElement.disabled = true;\n",
              "\n",
              "  if (!files) {\n",
              "    return {\n",
              "      response: {\n",
              "        action: 'complete',\n",
              "      }\n",
              "    };\n",
              "  }\n",
              "\n",
              "  for (const file of files) {\n",
              "    const li = document.createElement('li');\n",
              "    li.append(span(file.name, {fontWeight: 'bold'}));\n",
              "    li.append(span(\n",
              "        `(${file.type || 'n/a'}) - ${file.size} bytes, ` +\n",
              "        `last modified: ${\n",
              "            file.lastModifiedDate ? file.lastModifiedDate.toLocaleDateString() :\n",
              "                                    'n/a'} - `));\n",
              "    const percent = span('0% done');\n",
              "    li.appendChild(percent);\n",
              "\n",
              "    outputElement.appendChild(li);\n",
              "\n",
              "    const fileDataPromise = new Promise((resolve) => {\n",
              "      const reader = new FileReader();\n",
              "      reader.onload = (e) => {\n",
              "        resolve(e.target.result);\n",
              "      };\n",
              "      reader.readAsArrayBuffer(file);\n",
              "    });\n",
              "    // Wait for the data to be ready.\n",
              "    let fileData = yield {\n",
              "      promise: fileDataPromise,\n",
              "      response: {\n",
              "        action: 'continue',\n",
              "      }\n",
              "    };\n",
              "\n",
              "    // Use a chunked sending to avoid message size limits. See b/62115660.\n",
              "    let position = 0;\n",
              "    do {\n",
              "      const length = Math.min(fileData.byteLength - position, MAX_PAYLOAD_SIZE);\n",
              "      const chunk = new Uint8Array(fileData, position, length);\n",
              "      position += length;\n",
              "\n",
              "      const base64 = btoa(String.fromCharCode.apply(null, chunk));\n",
              "      yield {\n",
              "        response: {\n",
              "          action: 'append',\n",
              "          file: file.name,\n",
              "          data: base64,\n",
              "        },\n",
              "      };\n",
              "\n",
              "      let percentDone = fileData.byteLength === 0 ?\n",
              "          100 :\n",
              "          Math.round((position / fileData.byteLength) * 100);\n",
              "      percent.textContent = `${percentDone}% done`;\n",
              "\n",
              "    } while (position < fileData.byteLength);\n",
              "  }\n",
              "\n",
              "  // All done.\n",
              "  yield {\n",
              "    response: {\n",
              "      action: 'complete',\n",
              "    }\n",
              "  };\n",
              "}\n",
              "\n",
              "scope.google = scope.google || {};\n",
              "scope.google.colab = scope.google.colab || {};\n",
              "scope.google.colab._files = {\n",
              "  _uploadFiles,\n",
              "  _uploadFilesContinue,\n",
              "};\n",
              "})(self);\n",
              "</script> "
            ]
          },
          "metadata": {}
        },
        {
          "output_type": "stream",
          "name": "stdout",
          "text": [
            "Saving online_retail.xlsx to online_retail (3).xlsx\n",
            "dict_keys(['online_retail (3).xlsx'])\n"
          ]
        }
      ]
    },
    {
      "cell_type": "code",
      "source": [
        "from pyspark.sql import SparkSession\n",
        "\n",
        "# Создание сеанса Spark\n",
        "spark = SparkSession.builder \\\n",
        "    .master(\"local[2]\") \\\n",
        "    .appName(\"SparkFirst\") \\\n",
        "    .config(\"spark.executor.memory\", \"32g\") \\\n",
        "    .config(\"spark.executor.cores\", 4) \\\n",
        "    .config(\"spark.dynamicAllocation.enabled\", \"true\") \\\n",
        "    .config(\"spark.dynamicAllocation.maxExecutors\", 4) \\\n",
        "    .config(\"spark.shuffle.service.enabled\", \"true\") \\\n",
        "    .getOrCreate()\n",
        "\n",
        "# Создание Spark DataFrame из Pandas DataFrame\n",
        "df_spark = spark.createDataFrame(df_pandas)\n",
        "\n",
        "# Ваш DataFrame теперь доступен в df_spark"
      ],
      "metadata": {
        "id": "s3IHiPDhG0dH"
      },
      "execution_count": 18,
      "outputs": []
    },
    {
      "cell_type": "code",
      "source": [
        "import pandas as pd\n",
        "\n",
        "# Загрузка данных в Pandas DataFrame\n",
        "df_pandas = pd.read_excel(\"online_retail (3).xlsx\")\n",
        "\n",
        "# Создание сеанса Spark\n",
        "spark = SparkSession.builder \\\n",
        "    .master(\"local[2]\") \\\n",
        "    .appName(\"SparkFirst\") \\\n",
        "    .config(\"spark.executor.memory\", \"32g\") \\\n",
        "    .config(\"spark.executor.cores\", 4) \\\n",
        "    .config(\"spark.dynamicAllocation.enabled\", \"true\") \\\n",
        "    .config(\"spark.dynamicAllocation.maxExecutors\", 4) \\\n",
        "    .config(\"spark.shuffle.service.enabled\", \"true\") \\\n",
        "    .getOrCreate()\n",
        "\n",
        "# Конвертация Pandas DataFrame в Spark DataFrame\n",
        "df_spark = spark.createDataFrame(df_pandas)\n",
        "\n",
        "# Печать схемы Spark DataFrame\n",
        "df_spark.printSchema()\n",
        "\n",
        "# Печать первых нескольких строк Spark DataFrame\n",
        "df_spark.show()"
      ],
      "metadata": {
        "colab": {
          "base_uri": "https://localhost:8080/"
        },
        "id": "AZ4JLjPvPI9b",
        "outputId": "ea5d300d-ef8a-417f-cdc9-6dad8740d53f"
      },
      "execution_count": 23,
      "outputs": [
        {
          "output_type": "stream",
          "name": "stdout",
          "text": [
            "root\n",
            " |-- InvoiceNo: string (nullable = true)\n",
            " |-- StockCode: string (nullable = true)\n",
            " |-- Description: string (nullable = true)\n",
            " |-- Quantity: long (nullable = true)\n",
            " |-- InvoiceDate: timestamp (nullable = true)\n",
            " |-- UnitPrice: double (nullable = true)\n",
            " |-- CustomerID: double (nullable = true)\n",
            " |-- Country: string (nullable = true)\n",
            "\n",
            "+---------+---------+--------------------+--------+-------------------+---------+----------+--------------+\n",
            "|InvoiceNo|StockCode|         Description|Quantity|        InvoiceDate|UnitPrice|CustomerID|       Country|\n",
            "+---------+---------+--------------------+--------+-------------------+---------+----------+--------------+\n",
            "|   536365|   85123A|WHITE HANGING HEA...|       6|2010-12-01 08:26:00|     2.55|   17850.0|United Kingdom|\n",
            "|   536365|    71053| WHITE METAL LANTERN|       6|2010-12-01 08:26:00|     3.39|   17850.0|United Kingdom|\n",
            "|   536365|   84406B|CREAM CUPID HEART...|       8|2010-12-01 08:26:00|     2.75|   17850.0|United Kingdom|\n",
            "|   536365|   84029G|KNITTED UNION FLA...|       6|2010-12-01 08:26:00|     3.39|   17850.0|United Kingdom|\n",
            "|   536365|   84029E|RED WOOLLY HOTTIE...|       6|2010-12-01 08:26:00|     3.39|   17850.0|United Kingdom|\n",
            "|   536365|    22752|SET 7 BABUSHKA NE...|       2|2010-12-01 08:26:00|     7.65|   17850.0|United Kingdom|\n",
            "|   536365|    21730|GLASS STAR FROSTE...|       6|2010-12-01 08:26:00|     4.25|   17850.0|United Kingdom|\n",
            "|   536366|    22633|HAND WARMER UNION...|       6|2010-12-01 08:28:00|     1.85|   17850.0|United Kingdom|\n",
            "|   536366|    22632|HAND WARMER RED P...|       6|2010-12-01 08:28:00|     1.85|   17850.0|United Kingdom|\n",
            "|   536367|    84879|ASSORTED COLOUR B...|      32|2010-12-01 08:34:00|     1.69|   13047.0|United Kingdom|\n",
            "|   536367|    22745|POPPY'S PLAYHOUSE...|       6|2010-12-01 08:34:00|      2.1|   13047.0|United Kingdom|\n",
            "|   536367|    22748|POPPY'S PLAYHOUSE...|       6|2010-12-01 08:34:00|      2.1|   13047.0|United Kingdom|\n",
            "|   536367|    22749|FELTCRAFT PRINCES...|       8|2010-12-01 08:34:00|     3.75|   13047.0|United Kingdom|\n",
            "|   536367|    22310|IVORY KNITTED MUG...|       6|2010-12-01 08:34:00|     1.65|   13047.0|United Kingdom|\n",
            "|   536367|    84969|BOX OF 6 ASSORTED...|       6|2010-12-01 08:34:00|     4.25|   13047.0|United Kingdom|\n",
            "|   536367|    22623|BOX OF VINTAGE JI...|       3|2010-12-01 08:34:00|     4.95|   13047.0|United Kingdom|\n",
            "|   536367|    22622|BOX OF VINTAGE AL...|       2|2010-12-01 08:34:00|     9.95|   13047.0|United Kingdom|\n",
            "|   536367|    21754|HOME BUILDING BLO...|       3|2010-12-01 08:34:00|     5.95|   13047.0|United Kingdom|\n",
            "|   536367|    21755|LOVE BUILDING BLO...|       3|2010-12-01 08:34:00|     5.95|   13047.0|United Kingdom|\n",
            "|   536367|    21777|RECIPE BOX WITH M...|       4|2010-12-01 08:34:00|     7.95|   13047.0|United Kingdom|\n",
            "+---------+---------+--------------------+--------+-------------------+---------+----------+--------------+\n",
            "only showing top 20 rows\n",
            "\n"
          ]
        }
      ]
    },
    {
      "cell_type": "code",
      "source": [
        "print(\"Количество строк в файле: {}\".format(df.count()))\n",
        "print(\"Количество уникальных клиентов: {}\".format(\n",
        "  df.select(countDistinct(\"CustomerID\")).collect()[0][0]\n",
        "))\n",
        "df.createOrReplaceTempView(\"df_t\")\n",
        "print(\"В какой стране совершается большинство покупок: {}\".format(\n",
        "  spark.sql(\"select count (*) as cnt, Country from df_t group by Country order by cnt desc limit 1\").collect()[0][1]\n",
        "))\n",
        "dates = spark.sql(\"select min(InvoiceDate), max(InvoiceDate) from df_t\").collect()[0]\n",
        "print(\"Даты самой ранней и самой последней покупки на платформе: {} и {}\".format(dates[0].date(), dates[1].date()))"
      ],
      "metadata": {
        "colab": {
          "base_uri": "https://localhost:8080/",
          "height": 245
        },
        "id": "F3HStC1VPvQU",
        "outputId": "19f0ffc1-ff96-422e-88c3-88423953e423"
      },
      "execution_count": 24,
      "outputs": [
        {
          "output_type": "error",
          "ename": "NameError",
          "evalue": "ignored",
          "traceback": [
            "\u001b[0;31m---------------------------------------------------------------------------\u001b[0m",
            "\u001b[0;31mNameError\u001b[0m                                 Traceback (most recent call last)",
            "\u001b[0;32m<ipython-input-24-6a2d02f6957d>\u001b[0m in \u001b[0;36m<cell line: 1>\u001b[0;34m()\u001b[0m\n\u001b[0;32m----> 1\u001b[0;31m \u001b[0mprint\u001b[0m\u001b[0;34m(\u001b[0m\u001b[0;34m\"Количество строк в файле: {}\"\u001b[0m\u001b[0;34m.\u001b[0m\u001b[0mformat\u001b[0m\u001b[0;34m(\u001b[0m\u001b[0mdf\u001b[0m\u001b[0;34m.\u001b[0m\u001b[0mcount\u001b[0m\u001b[0;34m(\u001b[0m\u001b[0;34m)\u001b[0m\u001b[0;34m)\u001b[0m\u001b[0;34m)\u001b[0m\u001b[0;34m\u001b[0m\u001b[0;34m\u001b[0m\u001b[0m\n\u001b[0m\u001b[1;32m      2\u001b[0m print(\"Количество уникальных клиентов: {}\".format(\n\u001b[1;32m      3\u001b[0m   \u001b[0mdf\u001b[0m\u001b[0;34m.\u001b[0m\u001b[0mselect\u001b[0m\u001b[0;34m(\u001b[0m\u001b[0mcountDistinct\u001b[0m\u001b[0;34m(\u001b[0m\u001b[0;34m\"CustomerID\"\u001b[0m\u001b[0;34m)\u001b[0m\u001b[0;34m)\u001b[0m\u001b[0;34m.\u001b[0m\u001b[0mcollect\u001b[0m\u001b[0;34m(\u001b[0m\u001b[0;34m)\u001b[0m\u001b[0;34m[\u001b[0m\u001b[0;36m0\u001b[0m\u001b[0;34m]\u001b[0m\u001b[0;34m[\u001b[0m\u001b[0;36m0\u001b[0m\u001b[0;34m]\u001b[0m\u001b[0;34m\u001b[0m\u001b[0;34m\u001b[0m\u001b[0m\n\u001b[1;32m      4\u001b[0m ))\n\u001b[1;32m      5\u001b[0m \u001b[0mdf\u001b[0m\u001b[0;34m.\u001b[0m\u001b[0mcreateOrReplaceTempView\u001b[0m\u001b[0;34m(\u001b[0m\u001b[0;34m\"df_t\"\u001b[0m\u001b[0;34m)\u001b[0m\u001b[0;34m\u001b[0m\u001b[0;34m\u001b[0m\u001b[0m\n",
            "\u001b[0;31mNameError\u001b[0m: name 'df' is not defined"
          ]
        }
      ]
    },
    {
      "cell_type": "code",
      "source": [
        "print(\"Количество строк в файле: {}\".format(df_spark.count()))\n",
        "print(\"Количество уникальных клиентов: {}\".format(\n",
        "  df_spark.select(countDistinct(\"CustomerID\")).collect()[0][0]\n",
        "))\n",
        "df_spark.createOrReplaceTempView(\"df_t\")\n",
        "print(\"В какой стране совершается большинство покупок: {}\".format(\n",
        "  spark.sql(\"select count (*) as cnt, Country from df_t group by Country order by cnt desc limit 1\").collect()[0][1]\n",
        "))\n",
        "dates = spark.sql(\"select min(InvoiceDate), max(InvoiceDate) from df_t\").collect()[0]\n",
        "print(\"Даты самой ранней и самой последней покупки на платформе: {} и {}\".format(dates[0].date(), dates[1].date()))"
      ],
      "metadata": {
        "colab": {
          "base_uri": "https://localhost:8080/"
        },
        "id": "tjGdROqvQCUH",
        "outputId": "4f075032-b962-43ce-ddfb-110498db4af9"
      },
      "execution_count": 25,
      "outputs": [
        {
          "output_type": "stream",
          "name": "stdout",
          "text": [
            "Количество строк в файле: 541909\n",
            "Количество уникальных клиентов: 4373\n",
            "В какой стране совершается большинство покупок: United Kingdom\n",
            "Даты самой ранней и самой последней покупки на платформе: 2010-12-01 и 2011-12-09\n"
          ]
        }
      ]
    },
    {
      "cell_type": "code",
      "source": [
        "# Предполагаем, что анализ происходит 2012-01-01\n",
        "# Добавляем столбцы RFM\n",
        "df = spark.sql(\n",
        "    \"\"\" select CustomerID,\n",
        "        min(datediff(date '2012-01-01', InvoiceDate)) as recency,\n",
        "        count(*) as frequency,\n",
        "        avg(Quantity * UnitPrice) as monetary\n",
        "        from df_t\n",
        "        where CustomerID is not null\n",
        "        group by CustomerID\"\"\"\n",
        ")\n",
        "df.show()"
      ],
      "metadata": {
        "colab": {
          "base_uri": "https://localhost:8080/"
        },
        "id": "a9cs60BzQRgP",
        "outputId": "34e1f4eb-bde7-425e-9b90-878b695d8a35"
      },
      "execution_count": 26,
      "outputs": [
        {
          "output_type": "stream",
          "name": "stdout",
          "text": [
            "+----------+-------+---------+------------------+\n",
            "|CustomerID|recency|frequency|          monetary|\n",
            "+----------+-------+---------+------------------+\n",
            "|   16916.0|     46|      143|4.0297902097902085|\n",
            "|   17884.0|     26|      117| 6.132051282051281|\n",
            "|   13094.0|     44|       30|56.962000000000025|\n",
            "|   16596.0|     38|       12|20.845833333333335|\n",
            "|   17633.0|     54|       72|17.254722222222217|\n",
            "|   18114.0|    313|       28| 7.860714285714286|\n",
            "|   13973.0|    310|       11|24.063636363636363|\n",
            "|   14473.0|     97|        7| 33.47714285714286|\n",
            "|   13956.0|     28|      152| 6.752763157894739|\n",
            "|   13533.0|    205|       76|3.5630263157894753|\n",
            "|   13918.0|     72|       30|            40.428|\n",
            "|   12493.0|    188|       23|18.121304347826086|\n",
            "|   14285.0|     44|       27| 70.74111111111112|\n",
            "|   16858.0|    389|       13|26.606923076923085|\n",
            "|   13649.0|    279|       23|15.069565217391307|\n",
            "|   16656.0|     45|       80|107.10300000000002|\n",
            "|   15160.0|    380|        4|39.540000000000006|\n",
            "|   18277.0|     81|        9|10.847777777777777|\n",
            "|   14760.0|    317|        7| 7.685714285714285|\n",
            "|   15397.0|    312|        6|15.666666666666666|\n",
            "+----------+-------+---------+------------------+\n",
            "only showing top 20 rows\n",
            "\n"
          ]
        }
      ]
    },
    {
      "cell_type": "code",
      "source": [
        "# Добавляем столбцы с рейтингами\n",
        "df.createOrReplaceTempView(\"df_t\")\n",
        "df = spark.sql(\n",
        "    \"\"\" select CustomerID, recency, frequency, monetary,\n",
        "        case\n",
        "          when recency < 30 then 'A'\n",
        "          when recency < 60 then 'B'\n",
        "          else 'C'\n",
        "        end as r_rating,\n",
        "        case\n",
        "          when frequency > 50 then 'A'\n",
        "          when frequency > 20 then 'B'\n",
        "          else 'C'\n",
        "        end as f_rating,\n",
        "        case\n",
        "          when monetary > 50 then 'A'\n",
        "          when monetary > 25 then 'B'\n",
        "          else 'C'\n",
        "        end as m_rating,\n",
        "        concat(r_rating, f_rating, m_rating) as rating\n",
        "        from df_t\"\"\"\n",
        ")\n",
        "df.show()"
      ],
      "metadata": {
        "colab": {
          "base_uri": "https://localhost:8080/"
        },
        "id": "QjqiGNCzQVZ4",
        "outputId": "5a7ffaa1-00d1-4473-cbf5-18289ba8c7c6"
      },
      "execution_count": 27,
      "outputs": [
        {
          "output_type": "stream",
          "name": "stdout",
          "text": [
            "+----------+-------+---------+------------------+--------+--------+--------+------+\n",
            "|CustomerID|recency|frequency|          monetary|r_rating|f_rating|m_rating|rating|\n",
            "+----------+-------+---------+------------------+--------+--------+--------+------+\n",
            "|   16916.0|     46|      143|4.0297902097902085|       B|       A|       C|   BAC|\n",
            "|   17884.0|     26|      117| 6.132051282051281|       A|       A|       C|   AAC|\n",
            "|   13094.0|     44|       30|56.962000000000025|       B|       B|       A|   BBA|\n",
            "|   16596.0|     38|       12|20.845833333333335|       B|       C|       C|   BCC|\n",
            "|   17633.0|     54|       72|17.254722222222217|       B|       A|       C|   BAC|\n",
            "|   18114.0|    313|       28| 7.860714285714286|       C|       B|       C|   CBC|\n",
            "|   13973.0|    310|       11|24.063636363636363|       C|       C|       C|   CCC|\n",
            "|   14473.0|     97|        7| 33.47714285714286|       C|       C|       B|   CCB|\n",
            "|   13956.0|     28|      152| 6.752763157894739|       A|       A|       C|   AAC|\n",
            "|   13533.0|    205|       76|3.5630263157894753|       C|       A|       C|   CAC|\n",
            "|   13918.0|     72|       30|            40.428|       C|       B|       B|   CBB|\n",
            "|   12493.0|    188|       23|18.121304347826086|       C|       B|       C|   CBC|\n",
            "|   14285.0|     44|       27| 70.74111111111112|       B|       B|       A|   BBA|\n",
            "|   16858.0|    389|       13|26.606923076923085|       C|       C|       B|   CCB|\n",
            "|   13649.0|    279|       23|15.069565217391307|       C|       B|       C|   CBC|\n",
            "|   16656.0|     45|       80|107.10300000000002|       B|       A|       A|   BAA|\n",
            "|   15160.0|    380|        4|39.540000000000006|       C|       C|       B|   CCB|\n",
            "|   18277.0|     81|        9|10.847777777777777|       C|       C|       C|   CCC|\n",
            "|   14760.0|    317|        7| 7.685714285714285|       C|       C|       C|   CCC|\n",
            "|   15397.0|    312|        6|15.666666666666666|       C|       C|       C|   CCC|\n",
            "+----------+-------+---------+------------------+--------+--------+--------+------+\n",
            "only showing top 20 rows\n",
            "\n"
          ]
        }
      ]
    },
    {
      "cell_type": "code",
      "source": [
        "df.createOrReplaceTempView(\"df_t\")\n",
        "df = spark.sql(\n",
        "    \"\"\" select CustomerID\n",
        "        from df_t\n",
        "        where rating = 'AAA'\"\"\"\n",
        ")\n",
        "df.show()"
      ],
      "metadata": {
        "colab": {
          "base_uri": "https://localhost:8080/"
        },
        "id": "Xy7azqgFQeGW",
        "outputId": "09c9801c-32f2-4d29-d56d-060d1831bcd9"
      },
      "execution_count": 28,
      "outputs": [
        {
          "output_type": "stream",
          "name": "stdout",
          "text": [
            "+----------+\n",
            "|CustomerID|\n",
            "+----------+\n",
            "|   16353.0|\n",
            "|   18092.0|\n",
            "|   17949.0|\n",
            "|   15061.0|\n",
            "|   12753.0|\n",
            "|   13408.0|\n",
            "|   13694.0|\n",
            "|   15187.0|\n",
            "|   14739.0|\n",
            "|   16525.0|\n",
            "|   17677.0|\n",
            "|   16672.0|\n",
            "|   16210.0|\n",
            "|   18102.0|\n",
            "|   13199.0|\n",
            "|   13881.0|\n",
            "|   17857.0|\n",
            "|   17511.0|\n",
            "|   13777.0|\n",
            "|   15694.0|\n",
            "+----------+\n",
            "only showing top 20 rows\n",
            "\n"
          ]
        }
      ]
    },
    {
      "cell_type": "code",
      "source": [
        "df.count()"
      ],
      "metadata": {
        "colab": {
          "base_uri": "https://localhost:8080/"
        },
        "id": "B8daKW4EQgot",
        "outputId": "5c950029-5826-4fa8-ccef-1ba1554ab2e1"
      },
      "execution_count": 29,
      "outputs": [
        {
          "output_type": "execute_result",
          "data": {
            "text/plain": [
              "29"
            ]
          },
          "metadata": {},
          "execution_count": 29
        }
      ]
    },
    {
      "cell_type": "code",
      "source": [
        "df.coalesce(1).write.mode(\"overwrite\").csv(\"result\")"
      ],
      "metadata": {
        "id": "UAusCqd4QlSn"
      },
      "execution_count": 31,
      "outputs": []
    },
    {
      "cell_type": "code",
      "source": [
        "from IPython.display import FileLink\n",
        "\n",
        "# Создал ссылку для скачивания файла\n",
        "FileLink(r'result/*.csv')"
      ],
      "metadata": {
        "colab": {
          "base_uri": "https://localhost:8080/",
          "height": 34
        },
        "id": "bgXGMm_cRDLA",
        "outputId": "eb9d5dc0-1686-42bc-c630-83e892e20d7f"
      },
      "execution_count": 32,
      "outputs": [
        {
          "output_type": "execute_result",
          "data": {
            "text/plain": [
              "/content/result/*.csv"
            ],
            "text/html": [
              "Path (<tt>result/*.csv</tt>) doesn't exist. It may still be in the process of being generated, or you may have the incorrect path."
            ]
          },
          "metadata": {},
          "execution_count": 32
        }
      ]
    },
    {
      "cell_type": "code",
      "source": [
        "df.coalesce(1).write.mode(\"overwrite\").csv(\"result\")"
      ],
      "metadata": {
        "id": "HG4jMzDLSxr6"
      },
      "execution_count": 38,
      "outputs": []
    },
    {
      "cell_type": "code",
      "source": [
        "from IPython.display import FileLink\n",
        "\n",
        "# Посмотрим содержимое папки\n",
        "result_folder = \"result\"\n",
        "all_files = os.listdir(result_folder)\n",
        "\n",
        "# Найду последний созданный CSV-файл\n",
        "latest_csv = sorted(all_files, key=lambda x: os.path.getmtime(os.path.join(result_folder, x)), reverse=True)[0]\n",
        "\n",
        "# Создам ссылку для скачивания последнего CSV-файла\n",
        "download_link = FileLink(os.path.join(result_folder, latest_csv))\n",
        "download_link"
      ],
      "metadata": {
        "colab": {
          "base_uri": "https://localhost:8080/",
          "height": 34
        },
        "id": "Ric2FvIKTygV",
        "outputId": "cc836b6e-485d-488b-8505-8836af5dca26"
      },
      "execution_count": 43,
      "outputs": [
        {
          "output_type": "execute_result",
          "data": {
            "text/plain": [
              "/content/result/._SUCCESS.crc"
            ],
            "text/html": [
              "<a href='result/._SUCCESS.crc' target='_blank'>result/._SUCCESS.crc</a><br>"
            ]
          },
          "metadata": {},
          "execution_count": 43
        }
      ]
    }
  ]
}