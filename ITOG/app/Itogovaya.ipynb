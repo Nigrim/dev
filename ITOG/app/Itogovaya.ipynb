{
  "nbformat": 4,
  "nbformat_minor": 0,
  "metadata": {
    "colab": {
      "provenance": []
    },
    "kernelspec": {
      "name": "python3",
      "display_name": "Python 3"
    },
    "language_info": {
      "name": "python"
    }
  },
  "cells": [
    {
      "cell_type": "code",
      "source": [
        "# Установка PySpark\n",
        "!pip install pyspark\n",
        "\n",
        "# Настройка SparkSession\n",
        "from pyspark.sql import SparkSession\n",
        "\n",
        "# Создание объекта SparkSession\n",
        "spark = SparkSession.builder.master(\"local[*]\").getOrCreate()"
      ],
      "metadata": {
        "colab": {
          "base_uri": "https://localhost:8080/"
        },
        "id": "Pe9st6rBuzgj",
        "outputId": "52d289d7-b683-4dde-c91c-d3cdc1e6cc54"
      },
      "execution_count": 4,
      "outputs": [
        {
          "output_type": "stream",
          "name": "stdout",
          "text": [
            "Collecting pyspark\n",
            "  Downloading pyspark-3.5.0.tar.gz (316.9 MB)\n",
            "\u001b[2K     \u001b[90m━━━━━━━━━━━━━━━━━━━━━━━━━━━━━━━━━━━━━━━━\u001b[0m \u001b[32m316.9/316.9 MB\u001b[0m \u001b[31m2.8 MB/s\u001b[0m eta \u001b[36m0:00:00\u001b[0m\n",
            "\u001b[?25h  Preparing metadata (setup.py) ... \u001b[?25l\u001b[?25hdone\n",
            "Requirement already satisfied: py4j==0.10.9.7 in /usr/local/lib/python3.10/dist-packages (from pyspark) (0.10.9.7)\n",
            "Building wheels for collected packages: pyspark\n",
            "  Building wheel for pyspark (setup.py) ... \u001b[?25l\u001b[?25hdone\n",
            "  Created wheel for pyspark: filename=pyspark-3.5.0-py2.py3-none-any.whl size=317425345 sha256=b72e844a08f057959ef14b7990a7a99d16c18240e98cdc006f9dea6124fadad6\n",
            "  Stored in directory: /root/.cache/pip/wheels/41/4e/10/c2cf2467f71c678cfc8a6b9ac9241e5e44a01940da8fbb17fc\n",
            "Successfully built pyspark\n",
            "Installing collected packages: pyspark\n",
            "Successfully installed pyspark-3.5.0\n"
          ]
        }
      ]
    },
    {
      "cell_type": "code",
      "execution_count": 5,
      "metadata": {
        "id": "w0Y-fZc6tU5p"
      },
      "outputs": [],
      "source": [
        "import pandas as pd\n",
        "import os"
      ]
    },
    {
      "cell_type": "code",
      "source": [
        "spark = SparkSession.builder\\\n",
        "    .master(\"local[*]\")\\\n",
        "    .appName(\"SparkFirst\")\\\n",
        "    .config(\"spark.executor.memory\", \"10g\")\\\n",
        "    .config(\"spark.executor.cores\", 5)\\\n",
        "    .config(\"spark.dynamicAllocation.enabled\", \"true\")\\\n",
        "    .config(\"spark.dynamicAllocation.maxExecutors\", 5)\\\n",
        "    .config(\"spark.shuffle.service.enabled\", \"true\")\\\n",
        "    .config(\"spark.master\", \"local[*]\").getOrCreate()"
      ],
      "metadata": {
        "id": "HmcIG4iNt_to"
      },
      "execution_count": 6,
      "outputs": []
    },
    {
      "cell_type": "code",
      "source": [
        "from google.colab import files\n",
        "\n",
        "# Загрузка файла\n",
        "uploaded = files.upload()\n",
        "\n",
        "# Печать загруженных файлов\n",
        "for filename in uploaded.keys():\n",
        "    print(f'Файл {filename} был загружен')"
      ],
      "metadata": {
        "colab": {
          "base_uri": "https://localhost:8080/",
          "height": 90
        },
        "id": "o4ONaOk6v1Db",
        "outputId": "97ad0f2c-e566-457f-dc5c-ffafdecd288b"
      },
      "execution_count": 8,
      "outputs": [
        {
          "output_type": "display_data",
          "data": {
            "text/plain": [
              "<IPython.core.display.HTML object>"
            ],
            "text/html": [
              "\n",
              "     <input type=\"file\" id=\"files-0aaf1f8b-ee6f-4155-842c-323183716871\" name=\"files[]\" multiple disabled\n",
              "        style=\"border:none\" />\n",
              "     <output id=\"result-0aaf1f8b-ee6f-4155-842c-323183716871\">\n",
              "      Upload widget is only available when the cell has been executed in the\n",
              "      current browser session. Please rerun this cell to enable.\n",
              "      </output>\n",
              "      <script>// Copyright 2017 Google LLC\n",
              "//\n",
              "// Licensed under the Apache License, Version 2.0 (the \"License\");\n",
              "// you may not use this file except in compliance with the License.\n",
              "// You may obtain a copy of the License at\n",
              "//\n",
              "//      http://www.apache.org/licenses/LICENSE-2.0\n",
              "//\n",
              "// Unless required by applicable law or agreed to in writing, software\n",
              "// distributed under the License is distributed on an \"AS IS\" BASIS,\n",
              "// WITHOUT WARRANTIES OR CONDITIONS OF ANY KIND, either express or implied.\n",
              "// See the License for the specific language governing permissions and\n",
              "// limitations under the License.\n",
              "\n",
              "/**\n",
              " * @fileoverview Helpers for google.colab Python module.\n",
              " */\n",
              "(function(scope) {\n",
              "function span(text, styleAttributes = {}) {\n",
              "  const element = document.createElement('span');\n",
              "  element.textContent = text;\n",
              "  for (const key of Object.keys(styleAttributes)) {\n",
              "    element.style[key] = styleAttributes[key];\n",
              "  }\n",
              "  return element;\n",
              "}\n",
              "\n",
              "// Max number of bytes which will be uploaded at a time.\n",
              "const MAX_PAYLOAD_SIZE = 100 * 1024;\n",
              "\n",
              "function _uploadFiles(inputId, outputId) {\n",
              "  const steps = uploadFilesStep(inputId, outputId);\n",
              "  const outputElement = document.getElementById(outputId);\n",
              "  // Cache steps on the outputElement to make it available for the next call\n",
              "  // to uploadFilesContinue from Python.\n",
              "  outputElement.steps = steps;\n",
              "\n",
              "  return _uploadFilesContinue(outputId);\n",
              "}\n",
              "\n",
              "// This is roughly an async generator (not supported in the browser yet),\n",
              "// where there are multiple asynchronous steps and the Python side is going\n",
              "// to poll for completion of each step.\n",
              "// This uses a Promise to block the python side on completion of each step,\n",
              "// then passes the result of the previous step as the input to the next step.\n",
              "function _uploadFilesContinue(outputId) {\n",
              "  const outputElement = document.getElementById(outputId);\n",
              "  const steps = outputElement.steps;\n",
              "\n",
              "  const next = steps.next(outputElement.lastPromiseValue);\n",
              "  return Promise.resolve(next.value.promise).then((value) => {\n",
              "    // Cache the last promise value to make it available to the next\n",
              "    // step of the generator.\n",
              "    outputElement.lastPromiseValue = value;\n",
              "    return next.value.response;\n",
              "  });\n",
              "}\n",
              "\n",
              "/**\n",
              " * Generator function which is called between each async step of the upload\n",
              " * process.\n",
              " * @param {string} inputId Element ID of the input file picker element.\n",
              " * @param {string} outputId Element ID of the output display.\n",
              " * @return {!Iterable<!Object>} Iterable of next steps.\n",
              " */\n",
              "function* uploadFilesStep(inputId, outputId) {\n",
              "  const inputElement = document.getElementById(inputId);\n",
              "  inputElement.disabled = false;\n",
              "\n",
              "  const outputElement = document.getElementById(outputId);\n",
              "  outputElement.innerHTML = '';\n",
              "\n",
              "  const pickedPromise = new Promise((resolve) => {\n",
              "    inputElement.addEventListener('change', (e) => {\n",
              "      resolve(e.target.files);\n",
              "    });\n",
              "  });\n",
              "\n",
              "  const cancel = document.createElement('button');\n",
              "  inputElement.parentElement.appendChild(cancel);\n",
              "  cancel.textContent = 'Cancel upload';\n",
              "  const cancelPromise = new Promise((resolve) => {\n",
              "    cancel.onclick = () => {\n",
              "      resolve(null);\n",
              "    };\n",
              "  });\n",
              "\n",
              "  // Wait for the user to pick the files.\n",
              "  const files = yield {\n",
              "    promise: Promise.race([pickedPromise, cancelPromise]),\n",
              "    response: {\n",
              "      action: 'starting',\n",
              "    }\n",
              "  };\n",
              "\n",
              "  cancel.remove();\n",
              "\n",
              "  // Disable the input element since further picks are not allowed.\n",
              "  inputElement.disabled = true;\n",
              "\n",
              "  if (!files) {\n",
              "    return {\n",
              "      response: {\n",
              "        action: 'complete',\n",
              "      }\n",
              "    };\n",
              "  }\n",
              "\n",
              "  for (const file of files) {\n",
              "    const li = document.createElement('li');\n",
              "    li.append(span(file.name, {fontWeight: 'bold'}));\n",
              "    li.append(span(\n",
              "        `(${file.type || 'n/a'}) - ${file.size} bytes, ` +\n",
              "        `last modified: ${\n",
              "            file.lastModifiedDate ? file.lastModifiedDate.toLocaleDateString() :\n",
              "                                    'n/a'} - `));\n",
              "    const percent = span('0% done');\n",
              "    li.appendChild(percent);\n",
              "\n",
              "    outputElement.appendChild(li);\n",
              "\n",
              "    const fileDataPromise = new Promise((resolve) => {\n",
              "      const reader = new FileReader();\n",
              "      reader.onload = (e) => {\n",
              "        resolve(e.target.result);\n",
              "      };\n",
              "      reader.readAsArrayBuffer(file);\n",
              "    });\n",
              "    // Wait for the data to be ready.\n",
              "    let fileData = yield {\n",
              "      promise: fileDataPromise,\n",
              "      response: {\n",
              "        action: 'continue',\n",
              "      }\n",
              "    };\n",
              "\n",
              "    // Use a chunked sending to avoid message size limits. See b/62115660.\n",
              "    let position = 0;\n",
              "    do {\n",
              "      const length = Math.min(fileData.byteLength - position, MAX_PAYLOAD_SIZE);\n",
              "      const chunk = new Uint8Array(fileData, position, length);\n",
              "      position += length;\n",
              "\n",
              "      const base64 = btoa(String.fromCharCode.apply(null, chunk));\n",
              "      yield {\n",
              "        response: {\n",
              "          action: 'append',\n",
              "          file: file.name,\n",
              "          data: base64,\n",
              "        },\n",
              "      };\n",
              "\n",
              "      let percentDone = fileData.byteLength === 0 ?\n",
              "          100 :\n",
              "          Math.round((position / fileData.byteLength) * 100);\n",
              "      percent.textContent = `${percentDone}% done`;\n",
              "\n",
              "    } while (position < fileData.byteLength);\n",
              "  }\n",
              "\n",
              "  // All done.\n",
              "  yield {\n",
              "    response: {\n",
              "      action: 'complete',\n",
              "    }\n",
              "  };\n",
              "}\n",
              "\n",
              "scope.google = scope.google || {};\n",
              "scope.google.colab = scope.google.colab || {};\n",
              "scope.google.colab._files = {\n",
              "  _uploadFiles,\n",
              "  _uploadFilesContinue,\n",
              "};\n",
              "})(self);\n",
              "</script> "
            ]
          },
          "metadata": {}
        },
        {
          "output_type": "stream",
          "name": "stdout",
          "text": [
            "Saving yellow_tripdata_2020-01.csv to yellow_tripdata_2020-01.csv\n",
            "Файл yellow_tripdata_2020-01.csv был загружен\n"
          ]
        }
      ]
    },
    {
      "cell_type": "code",
      "source": [
        "from pyspark.sql import SparkSession\n",
        "from pyspark.sql.types import StructType, StructField, IntegerType, TimestampType, DoubleType, StringType\n",
        "\n",
        "# Создание объекта SparkSession (если он еще не создан)\n",
        "spark = SparkSession.builder.master(\"local[*]\").appName(\"SparkFirst\").getOrCreate()\n",
        "\n",
        "# Определение схемы\n",
        "schema = StructType([\n",
        "    StructField('VendorId', IntegerType(), True),\n",
        "    StructField('tpep_pickup_datetime', TimestampType(), True),\n",
        "    StructField('tpep_dropoff_datetime', TimestampType(), True),\n",
        "    StructField('passenger_count', IntegerType(), True),\n",
        "    StructField('trip_distance', DoubleType(), True),\n",
        "    StructField('RatecodeID', IntegerType(), True),\n",
        "    StructField('store_and_fwd_flag', StringType(), True),\n",
        "    StructField('PULocationID', IntegerType(), True),\n",
        "    StructField('DOLocationID', IntegerType(), True),\n",
        "    StructField('payment_type', IntegerType(), True),\n",
        "    StructField('fare_amount', DoubleType(), True),\n",
        "    StructField('extra', DoubleType(), True),\n",
        "    StructField('mta_tax', DoubleType(), True),\n",
        "    StructField('tip_amount', DoubleType(), True),\n",
        "    StructField('tolls_amount', DoubleType(), True),\n",
        "    StructField('improvement_surcharge', DoubleType(), True),\n",
        "    StructField('total_amount', DoubleType(), True),\n",
        "    StructField('congestion_surcharge', DoubleType(), True),\n",
        "])\n",
        "\n",
        "# Загрузка данных из CSV файла с использованием определенной схемы\n",
        "df = spark.read.csv('yellow_tripdata_2020-01.csv', header=True, schema=schema)\n",
        "\n",
        "# Вывод первых нескольких строк датафрейма\n",
        "df.show()"
      ],
      "metadata": {
        "colab": {
          "base_uri": "https://localhost:8080/"
        },
        "id": "gGJzE_R6M8Hp",
        "outputId": "9a568850-5bab-4118-eb29-96263a01c051"
      },
      "execution_count": 15,
      "outputs": [
        {
          "output_type": "stream",
          "name": "stdout",
          "text": [
            "+--------+--------------------+---------------------+---------------+-------------+----------+------------------+------------+------------+------------+-----------+-----+-------+----------+------------+---------------------+------------+--------------------+\n",
            "|VendorId|tpep_pickup_datetime|tpep_dropoff_datetime|passenger_count|trip_distance|RatecodeID|store_and_fwd_flag|PULocationID|DOLocationID|payment_type|fare_amount|extra|mta_tax|tip_amount|tolls_amount|improvement_surcharge|total_amount|congestion_surcharge|\n",
            "+--------+--------------------+---------------------+---------------+-------------+----------+------------------+------------+------------+------------+-----------+-----+-------+----------+------------+---------------------+------------+--------------------+\n",
            "|       1| 2020-01-01 00:28:15|  2020-01-01 00:33:03|              1|          1.2|         1|                 N|         238|         239|           1|        6.0|  3.0|    0.5|      1.47|         0.0|                  0.3|       11.27|                 2.5|\n",
            "|       1| 2020-01-01 00:35:39|  2020-01-01 00:43:04|              1|          1.2|         1|                 N|         239|         238|           1|        7.0|  3.0|    0.5|       1.5|         0.0|                  0.3|        12.3|                 2.5|\n",
            "|       1| 2020-01-01 00:47:41|  2020-01-01 00:53:52|              1|          0.6|         1|                 N|         238|         238|           1|        6.0|  3.0|    0.5|       1.0|         0.0|                  0.3|        10.8|                 2.5|\n",
            "|       1| 2020-01-01 00:55:23|  2020-01-01 01:00:14|              1|          0.8|         1|                 N|         238|         151|           1|        5.5|  0.5|    0.5|      1.36|         0.0|                  0.3|        8.16|                 0.0|\n",
            "|       2| 2020-01-01 00:01:58|  2020-01-01 00:04:16|              1|          0.0|         1|                 N|         193|         193|           2|        3.5|  0.5|    0.5|       0.0|         0.0|                  0.3|         4.8|                 0.0|\n",
            "|       2| 2020-01-01 00:09:44|  2020-01-01 00:10:37|              1|         0.03|         1|                 N|           7|         193|           2|        2.5|  0.5|    0.5|       0.0|         0.0|                  0.3|         3.8|                 0.0|\n",
            "|       2| 2020-01-01 00:39:25|  2020-01-01 00:39:29|              1|          0.0|         1|                 N|         193|         193|           1|        2.5|  0.5|    0.5|      0.01|         0.0|                  0.3|        3.81|                 0.0|\n",
            "|       2| 2019-12-18 15:27:49|  2019-12-18 15:28:59|              1|          0.0|         5|                 N|         193|         193|           1|       0.01|  0.0|    0.0|       0.0|         0.0|                  0.3|        2.81|                 2.5|\n",
            "|       2| 2019-12-18 15:30:35|  2019-12-18 15:31:35|              4|          0.0|         1|                 N|         193|         193|           1|        2.5|  0.5|    0.5|       0.0|         0.0|                  0.3|         6.3|                 2.5|\n",
            "|       1| 2020-01-01 00:29:01|  2020-01-01 00:40:28|              2|          0.7|         1|                 N|         246|          48|           1|        8.0|  3.0|    0.5|      2.35|         0.0|                  0.3|       14.15|                 2.5|\n",
            "|       1| 2020-01-01 00:55:11|  2020-01-01 01:12:03|              2|          2.4|         1|                 N|         246|          79|           1|       12.0|  3.0|    0.5|      1.75|         0.0|                  0.3|       17.55|                 2.5|\n",
            "|       1| 2020-01-01 00:37:15|  2020-01-01 00:51:41|              1|          0.8|         1|                 N|         163|         161|           2|        9.5|  3.0|    0.5|       0.0|         0.0|                  0.3|        13.3|                 2.5|\n",
            "|       1| 2020-01-01 00:56:27|  2020-01-01 01:21:44|              1|          3.3|         1|                 N|         161|         144|           1|       17.0|  3.0|    0.5|      4.15|         0.0|                  0.3|       24.95|                 2.5|\n",
            "|       2| 2020-01-01 00:21:54|  2020-01-01 00:27:31|              1|         1.07|         1|                 N|          43|         239|           1|        6.0|  0.5|    0.5|      1.96|         0.0|                  0.3|       11.76|                 2.5|\n",
            "|       2| 2020-01-01 00:38:01|  2020-01-01 01:15:21|              1|         7.76|         1|                 N|         143|          25|           1|       28.5|  0.5|    0.5|      4.84|         0.0|                  0.3|       37.14|                 2.5|\n",
            "|       1| 2020-01-01 00:15:35|  2020-01-01 00:27:06|              3|          1.6|         1|                 N|         211|         234|           2|        9.0|  3.0|    0.5|       0.0|         0.0|                  0.3|        12.8|                 2.5|\n",
            "|       1| 2020-01-01 00:41:20|  2020-01-01 00:44:22|              1|          0.5|         1|                 Y|         234|          90|           1|        4.0|  3.0|    0.5|       1.0|         0.0|                  0.3|         8.8|                 2.5|\n",
            "|       1| 2020-01-01 00:56:38|  2020-01-01 01:13:34|              1|          1.7|         1|                 N|         246|         142|           2|       11.5|  3.0|    0.5|       0.0|         0.0|                  0.3|        15.3|                 2.5|\n",
            "|       2| 2020-01-01 00:08:21|  2020-01-01 00:25:29|              1|         8.45|         1|                 N|         138|         216|           2|       24.5|  0.5|    0.5|       0.0|         0.0|                  0.3|        25.8|                 0.0|\n",
            "|       1| 2020-01-01 00:25:39|  2020-01-01 00:27:05|              1|          0.0|         1|                 N|         170|         162|           4|        3.0|  3.0|    0.5|       0.0|         0.0|                  0.3|         6.8|                 2.5|\n",
            "+--------+--------------------+---------------------+---------------+-------------+----------+------------------+------------+------------+------------+-----------+-----+-------+----------+------------+---------------------+------------+--------------------+\n",
            "only showing top 20 rows\n",
            "\n"
          ]
        }
      ]
    },
    {
      "cell_type": "code",
      "source": [
        "df.printSchema()"
      ],
      "metadata": {
        "colab": {
          "base_uri": "https://localhost:8080/"
        },
        "id": "kYDNDcarM8EK",
        "outputId": "c4d4739c-249e-491b-e50f-14d98ff0b197"
      },
      "execution_count": 16,
      "outputs": [
        {
          "output_type": "stream",
          "name": "stdout",
          "text": [
            "root\n",
            " |-- VendorId: integer (nullable = true)\n",
            " |-- tpep_pickup_datetime: timestamp (nullable = true)\n",
            " |-- tpep_dropoff_datetime: timestamp (nullable = true)\n",
            " |-- passenger_count: integer (nullable = true)\n",
            " |-- trip_distance: double (nullable = true)\n",
            " |-- RatecodeID: integer (nullable = true)\n",
            " |-- store_and_fwd_flag: string (nullable = true)\n",
            " |-- PULocationID: integer (nullable = true)\n",
            " |-- DOLocationID: integer (nullable = true)\n",
            " |-- payment_type: integer (nullable = true)\n",
            " |-- fare_amount: double (nullable = true)\n",
            " |-- extra: double (nullable = true)\n",
            " |-- mta_tax: double (nullable = true)\n",
            " |-- tip_amount: double (nullable = true)\n",
            " |-- tolls_amount: double (nullable = true)\n",
            " |-- improvement_surcharge: double (nullable = true)\n",
            " |-- total_amount: double (nullable = true)\n",
            " |-- congestion_surcharge: double (nullable = true)\n",
            "\n"
          ]
        }
      ]
    },
    {
      "cell_type": "code",
      "source": [
        "from pyspark.sql.functions import count, when, col"
      ],
      "metadata": {
        "id": "xookHtWnM792"
      },
      "execution_count": 18,
      "outputs": []
    },
    {
      "cell_type": "code",
      "source": [
        "# Подсчет нулевых значений для каждого столбца\n",
        "null_counts = df.select([count(when(col(c).isNull(), c)).alias(c) for c in df.columns])\n",
        "\n",
        "# Вывод результатов\n",
        "null_counts.show()"
      ],
      "metadata": {
        "colab": {
          "base_uri": "https://localhost:8080/"
        },
        "id": "fPrh1DkUM7x0",
        "outputId": "d118db71-def1-4a1c-ddd3-e97b5a936994"
      },
      "execution_count": 19,
      "outputs": [
        {
          "output_type": "stream",
          "name": "stdout",
          "text": [
            "+--------+--------------------+---------------------+---------------+-------------+----------+------------------+------------+------------+------------+-----------+-----+-------+----------+------------+---------------------+------------+--------------------+\n",
            "|VendorId|tpep_pickup_datetime|tpep_dropoff_datetime|passenger_count|trip_distance|RatecodeID|store_and_fwd_flag|PULocationID|DOLocationID|payment_type|fare_amount|extra|mta_tax|tip_amount|tolls_amount|improvement_surcharge|total_amount|congestion_surcharge|\n",
            "+--------+--------------------+---------------------+---------------+-------------+----------+------------------+------------+------------+------------+-----------+-----+-------+----------+------------+---------------------+------------+--------------------+\n",
            "|   65441|                   0|                    0|          65441|            0|     65441|             65441|           0|           0|       65441|          0|    0|      0|         0|           0|                    0|           0|                   0|\n",
            "+--------+--------------------+---------------------+---------------+-------------+----------+------------------+------------+------------+------------+-----------+-----+-------+----------+------------+---------------------+------------+--------------------+\n",
            "\n"
          ]
        }
      ]
    },
    {
      "cell_type": "code",
      "source": [
        "df_clean = df.dropna(how='any')"
      ],
      "metadata": {
        "id": "-rh4Rc_9NmVS"
      },
      "execution_count": 20,
      "outputs": []
    },
    {
      "cell_type": "code",
      "source": [
        "df_clean.select([count(when(col(c).isNull(), c)).alias(c) for c in df.columns]).show()"
      ],
      "metadata": {
        "colab": {
          "base_uri": "https://localhost:8080/"
        },
        "id": "JJOTBzv5NmSI",
        "outputId": "e00c76ed-7c72-41c2-b586-fe97c602b828"
      },
      "execution_count": 21,
      "outputs": [
        {
          "output_type": "stream",
          "name": "stdout",
          "text": [
            "+--------+--------------------+---------------------+---------------+-------------+----------+------------------+------------+------------+------------+-----------+-----+-------+----------+------------+---------------------+------------+--------------------+\n",
            "|VendorId|tpep_pickup_datetime|tpep_dropoff_datetime|passenger_count|trip_distance|RatecodeID|store_and_fwd_flag|PULocationID|DOLocationID|payment_type|fare_amount|extra|mta_tax|tip_amount|tolls_amount|improvement_surcharge|total_amount|congestion_surcharge|\n",
            "+--------+--------------------+---------------------+---------------+-------------+----------+------------------+------------+------------+------------+-----------+-----+-------+----------+------------+---------------------+------------+--------------------+\n",
            "|       0|                   0|                    0|              0|            0|         0|                 0|           0|           0|           0|          0|    0|      0|         0|           0|                    0|           0|                   0|\n",
            "+--------+--------------------+---------------------+---------------+-------------+----------+------------------+------------+------------+------------+-----------+-----+-------+----------+------------+---------------------+------------+--------------------+\n",
            "\n"
          ]
        }
      ]
    },
    {
      "cell_type": "code",
      "source": [
        "df_clean.createOrReplaceTempView('taxi_service_in_process')"
      ],
      "metadata": {
        "id": "TV_rhp2fNmOn"
      },
      "execution_count": 22,
      "outputs": []
    },
    {
      "cell_type": "code",
      "source": [
        "sql = \"\"\"\n",
        "SELECT *\n",
        "FROM taxi_service_in_process\n",
        "WHERE\n",
        "total_amount > 0 AND\n",
        "trip_distance > 0\n",
        "\"\"\""
      ],
      "metadata": {
        "id": "T9bk0sDYNmIV"
      },
      "execution_count": 23,
      "outputs": []
    },
    {
      "cell_type": "code",
      "source": [
        "df_done = spark.sql(sql)\n",
        "df_done.createOrReplaceTempView('taxi_service')"
      ],
      "metadata": {
        "id": "XHm0Y3BJNl_7"
      },
      "execution_count": 24,
      "outputs": []
    },
    {
      "cell_type": "code",
      "source": [
        "output_path = \"pure_data\"\n",
        "df_done.write.csv(output_path, header=True, mode = 'overwrite')\n",
        "directory = 'pure_data'\n",
        "csv_files = [f for f in os.listdir(directory) if f.endswith('.csv')]\n",
        "combined_df = pd.DataFrame()\n",
        "\n",
        "for file in csv_files:\n",
        "    file_path = os.path.join(directory, file)\n",
        "    df = pd.read_csv(file_path)\n",
        "    combined_df = combined_df.append(df, ignore_index=True)\n",
        "\n",
        "output_csv = 'data_pure.csv'\n",
        "combined_df.to_csv(output_csv, index=False)"
      ],
      "metadata": {
        "colab": {
          "base_uri": "https://localhost:8080/"
        },
        "id": "84h6GdooONtX",
        "outputId": "4906f586-0cbd-45d0-b6e3-07b4dd77443c"
      },
      "execution_count": 25,
      "outputs": [
        {
          "output_type": "stream",
          "name": "stderr",
          "text": [
            "<ipython-input-25-727fb19ebf3f>:10: FutureWarning: The frame.append method is deprecated and will be removed from pandas in a future version. Use pandas.concat instead.\n",
            "  combined_df = combined_df.append(df, ignore_index=True)\n",
            "<ipython-input-25-727fb19ebf3f>:10: FutureWarning: The frame.append method is deprecated and will be removed from pandas in a future version. Use pandas.concat instead.\n",
            "  combined_df = combined_df.append(df, ignore_index=True)\n",
            "<ipython-input-25-727fb19ebf3f>:10: FutureWarning: The frame.append method is deprecated and will be removed from pandas in a future version. Use pandas.concat instead.\n",
            "  combined_df = combined_df.append(df, ignore_index=True)\n",
            "<ipython-input-25-727fb19ebf3f>:10: FutureWarning: The frame.append method is deprecated and will be removed from pandas in a future version. Use pandas.concat instead.\n",
            "  combined_df = combined_df.append(df, ignore_index=True)\n",
            "<ipython-input-25-727fb19ebf3f>:10: FutureWarning: The frame.append method is deprecated and will be removed from pandas in a future version. Use pandas.concat instead.\n",
            "  combined_df = combined_df.append(df, ignore_index=True)\n"
          ]
        }
      ]
    },
    {
      "cell_type": "code",
      "source": [
        "sql = \"\"\"\n",
        "WITH\n",
        "clear_date_from_table\n",
        "AS\n",
        "(\n",
        "\tSELECT date(tpep_pickup_datetime) AS date\n",
        "\tFROM taxi_service ts\n",
        "),\n",
        "date_count\n",
        "AS\n",
        "(\n",
        "\tSELECT count(date) AS count_date,\n",
        "\tdate AS date\n",
        "\tFROM clear_date_from_table\n",
        "\tGROUP BY date\n",
        "),\n",
        "info_zero\n",
        "AS\n",
        "(\n",
        "\tSELECT max(total_amount) AS zero_max_amm,\n",
        "\tmin(total_amount) AS zero_min_amm,\n",
        "\tdate(tpep_pickup_datetime) AS date,\n",
        "\tcount(passenger_count) AS percentage_zero\n",
        "\tFROM taxi_service ts\n",
        "\tWHERE passenger_count = 0\n",
        "\tGROUP BY date\n",
        "),\n",
        "info_1p\n",
        "AS\n",
        "(\n",
        "\tSELECT max(total_amount) AS max_amm_1p,\n",
        "\tmin(total_amount) AS min_amm_1p,\n",
        "\tdate(tpep_pickup_datetime) AS date,\n",
        "\tcount(passenger_count) AS percentage_1p\n",
        "\tFROM taxi_service ts\n",
        "\tWHERE passenger_count = 1\n",
        "\tGROUP BY date\n",
        "),\n",
        "info_2p\n",
        "AS\n",
        "(\n",
        "\tSELECT max(total_amount) AS max_amm_2p,\n",
        "\tmin(total_amount) AS min_amm_2p,\n",
        "\tdate(tpep_pickup_datetime) AS date,\n",
        "\tcount(passenger_count) AS percentage_2p\n",
        "\tFROM taxi_service ts\n",
        "\tWHERE passenger_count = 2\n",
        "\tGROUP BY date\n",
        "),\n",
        "info_3p\n",
        "AS\n",
        "(\n",
        "\tSELECT max(total_amount) AS max_amm_3p,\n",
        "\tmin(total_amount) AS min_amm_3p,\n",
        "\tdate(tpep_pickup_datetime) AS date,\n",
        "\tcount(passenger_count) AS percentage_3p\n",
        "\tFROM taxi_service ts\n",
        "\tWHERE passenger_count = 3\n",
        "\tGROUP BY date\n",
        "),\n",
        "info_4p_plus\n",
        "AS\n",
        "(\n",
        "\tSELECT max(total_amount) AS max_amm_4p_plus,\n",
        "\tmin(total_amount) AS min_amm_4p_plus,\n",
        "\tdate(tpep_pickup_datetime) AS date,\n",
        "\tcount(passenger_count) AS percentage_4p_plus\n",
        "\tFROM taxi_service ts\n",
        "\tWHERE passenger_count > 3\n",
        "\tGROUP BY date\n",
        ")\n",
        "SELECT date,\n",
        "COALESCE(round((CAST(percentage_zero AS decimal) / count_date) * 100), 0) AS percentage_zero,\n",
        "COALESCE(zero_max_amm, 0) AS zero_max_amm,\n",
        "COALESCE(zero_min_amm, 0) AS zero_min_amm,\n",
        "COALESCE(round((CAST(percentage_1p AS decimal) / count_date) * 100), 0) AS percentage_1p,\n",
        "COALESCE(max_amm_1p, 0) AS max_amm_1p,\n",
        "COALESCE(min_amm_1p, 0) AS min_amm_1p,\n",
        "COALESCE(round((CAST(percentage_2p AS decimal) / count_date) * 100), 0) AS percentage_2p,\n",
        "COALESCE(max_amm_2p, 0) AS max_amm_2p,\n",
        "COALESCE(min_amm_2p, 0) AS min_amm_2p,\n",
        "COALESCE(round((CAST(percentage_3p AS decimal) / count_date) * 100), 0) AS percentage_3p,\n",
        "COALESCE(max_amm_3p, 0) AS max_amm_3p,\n",
        "COALESCE(min_amm_3p, 0) AS min_amm_3p,\n",
        "COALESCE(round((CAST(percentage_4p_plus AS decimal) / count_date) * 100), 0) AS percentage_4p_plus,\n",
        "COALESCE(max_amm_4p_plus, 0) AS max_amm_4p_plus,\n",
        "COALESCE(min_amm_4p_plus, 0) AS min_amm_4p_plus\n",
        "FROM date_count\n",
        "LEFT JOIN info_1p USING(date)\n",
        "LEFT JOIN info_2p USING(date)\n",
        "LEFT JOIN info_3p USING(date)\n",
        "LEFT JOIN info_4p_plus USING(date)\n",
        "LEFT JOIN info_zero USING(date)\n",
        "\"\"\""
      ],
      "metadata": {
        "id": "rmrsMnQsONpi"
      },
      "execution_count": 26,
      "outputs": []
    },
    {
      "cell_type": "code",
      "source": [
        "df_data_mart = spark.sql(sql)\n",
        "df_data_mart.createOrReplaceTempView('taxi_service_done')\n",
        "df_data_mart.show(100)"
      ],
      "metadata": {
        "colab": {
          "base_uri": "https://localhost:8080/"
        },
        "id": "xNVHluejONk4",
        "outputId": "27188b4a-e7c0-4ee7-c674-e7a0055513dd"
      },
      "execution_count": 27,
      "outputs": [
        {
          "output_type": "stream",
          "name": "stdout",
          "text": [
            "+----------+---------------+------------+------------+-------------+----------+----------+-------------+----------+----------+-------------+----------+----------+------------------+---------------+---------------+\n",
            "|      date|percentage_zero|zero_max_amm|zero_min_amm|percentage_1p|max_amm_1p|min_amm_1p|percentage_2p|max_amm_2p|min_amm_2p|percentage_3p|max_amm_3p|min_amm_3p|percentage_4p_plus|max_amm_4p_plus|min_amm_4p_plus|\n",
            "+----------+---------------+------------+------------+-------------+----------+----------+-------------+----------+----------+-------------+----------+----------+------------------+---------------+---------------+\n",
            "|2009-01-01|              0|         0.0|         0.0|           79|      74.8|       3.3|            5|      31.3|      31.3|            5|      13.8|      13.8|                11|          61.42|            9.3|\n",
            "|2020-01-04|              2|      152.54|         0.3|           66|     965.8|       0.3|           18|     481.3|       0.3|            5|     158.8|       0.3|                 9|          577.8|            0.3|\n",
            "|2008-12-31|              0|         0.0|         0.0|           80|      73.7|       7.3|            0|       0.0|       0.0|           10|      7.25|      7.25|                10|           55.3|           55.3|\n",
            "|2020-01-03|              2|      187.42|         0.3|           69|    1242.3|       0.3|           16|     370.3|       0.3|            5|    409.59|       3.8|                 9|          226.1|            0.3|\n",
            "|2020-01-07|              2|       114.8|         0.3|           74|    410.67|       0.3|           14|    312.96|       3.3|            3|     225.3|       3.3|                 7|          242.8|            3.3|\n",
            "|2020-01-05|              2|      435.42|         0.3|           68|    596.42|       0.3|           17|     375.3|       0.3|            5|    333.34|      0.31|                 9|         255.42|            3.3|\n",
            "|2020-01-06|              2|      275.42|         0.3|           74|    581.06|       0.3|           14|    276.36|       0.3|            4|     200.3|       3.3|                 7|          181.8|            0.6|\n",
            "|2020-01-02|              2|      162.42|         0.3|           69|    390.96|       0.3|           16|    210.65|       0.3|            5|    215.54|       0.3|                 9|          352.3|            3.3|\n",
            "|2020-01-09|              2|      114.75|         0.3|           74|     620.3|       0.3|           14|     226.7|       0.3|            3|     230.3|       4.3|                 7|         333.04|            3.3|\n",
            "|2020-01-01|              2|      145.55|         0.3|           63|     465.3|       0.3|           20|    281.42|       0.3|            6|    433.04|      0.31|                10|         350.42|            0.3|\n",
            "|2021-01-02|              0|         0.0|         0.0|          100|     17.16|      14.8|            0|       0.0|       0.0|            0|       0.0|       0.0|                 0|            0.0|            0.0|\n",
            "|2020-01-08|              2|      319.03|         0.3|           74|    914.55|       0.3|           14|    282.36|       0.3|            4|    182.05|       0.3|                 7|         253.67|            0.3|\n",
            "|2019-12-31|              0|         0.0|         0.0|           58|     71.62|       5.8|           16|      41.8|       5.8|            5|     34.42|     10.56|                21|          54.36|            6.8|\n",
            "|2020-02-23|              0|         0.0|         0.0|            0|       0.0|       0.0|            0|       0.0|       0.0|          100|      28.8|      28.8|                 0|            0.0|            0.0|\n",
            "|2020-01-10|              2|       253.3|         3.3|           72|     303.8|       0.3|           15|    245.05|       0.3|            4|    187.55|       3.3|                 7|          280.8|            3.3|\n",
            "|2020-01-11|              2|      143.45|         0.3|           67|    416.15|       0.3|           18|    228.02|       0.3|            5|     250.3|       0.3|                 8|         424.29|            3.3|\n",
            "|2020-01-13|              2|      276.29|         2.5|           75|    534.12|       0.3|           13|     400.3|       0.3|            4|    178.92|       3.8|                 7|          300.3|            3.3|\n",
            "|2020-01-30|              2|      137.35|         3.3|           74|     349.1|       0.3|           13|    243.49|       0.3|            3|     212.9|       0.3|                 7|         411.82|            0.3|\n",
            "|2020-01-12|              2|       161.8|         0.3|           69|     450.3|       0.3|           17|     431.6|       0.3|            5|    331.42|      0.31|                 8|         658.35|            0.3|\n",
            "|2020-03-16|              0|         0.0|         0.0|            0|       0.0|       0.0|            0|       0.0|       0.0|          100|      8.76|      8.76|                 0|            0.0|            0.0|\n",
            "|2020-01-15|              2|       322.8|         3.3|           74|    381.79|       0.3|           13|    408.95|       0.3|            3|    184.67|       0.3|                 7|         179.16|            3.3|\n",
            "|2020-02-02|              0|         0.0|         0.0|            0|       0.0|       0.0|           50|       9.8|       9.8|           50|       9.3|       9.3|                 0|            0.0|            0.0|\n",
            "|2020-01-14|              2|       172.3|         0.3|           74|    340.01|       0.3|           13|     330.5|       0.3|            3|     300.3|       0.3|                 7|         412.09|            1.6|\n",
            "|2020-01-21|              2|      216.12|         0.3|           74|    4268.3|       0.3|           13|     335.0|       0.3|            3|    240.06|       0.3|                 7|         406.42|            0.3|\n",
            "|2020-02-12|              0|         0.0|         0.0|          100|      18.3|     11.76|            0|       0.0|       0.0|            0|       0.0|       0.0|                 0|            0.0|            0.0|\n",
            "|2020-01-17|              2|       281.3|         0.3|           72|     769.8|       0.3|           15|    360.96|       0.3|            4|    149.89|       3.3|                 7|         351.29|            3.3|\n",
            "|2020-03-25|              0|         0.0|         0.0|          100|      17.3|      11.3|            0|       0.0|       0.0|            0|       0.0|       0.0|                 0|            0.0|            0.0|\n",
            "|2020-07-31|              0|         0.0|         0.0|          100|       9.3|       9.3|            0|       0.0|       0.0|            0|       0.0|       0.0|                 0|            0.0|            0.0|\n",
            "|2020-01-22|              2|      246.42|         3.8|           75|    1110.8|       0.3|           13|    294.96|       0.3|            3|    166.92|       3.8|                 7|          264.2|            3.3|\n",
            "|2020-07-10|              0|         0.0|         0.0|          100|     20.16|      9.36|            0|       0.0|       0.0|            0|       0.0|       0.0|                 0|            0.0|            0.0|\n",
            "|2020-01-19|              2|      160.92|         0.8|           67|     464.8|       0.3|           18|     407.8|       0.3|            5|    499.56|       0.3|                 9|         222.36|            3.3|\n",
            "|2020-05-28|              0|         0.0|         0.0|          100|     18.96|       9.8|            0|       0.0|       0.0|            0|       0.0|       0.0|                 0|            0.0|            0.0|\n",
            "|2020-01-16|              2|      112.36|         0.3|           74|    395.45|       0.3|           14|    291.35|      0.31|            3|    207.95|       3.8|                 7|         156.04|            1.3|\n",
            "|2020-05-07|              0|         0.0|         0.0|          100|     31.62|     11.16|            0|       0.0|       0.0|            0|       0.0|       0.0|                 0|            0.0|            0.0|\n",
            "|2020-01-20|              2|       226.3|         0.3|           71|    471.79|       0.3|           16|     617.3|       0.3|            4|    409.89|       3.8|                 8|          240.2|            3.3|\n",
            "|2020-04-16|              0|         0.0|         0.0|          100|     10.56|     10.56|            0|       0.0|       0.0|            0|       0.0|       0.0|                 0|            0.0|            0.0|\n",
            "|2020-01-18|              2|      166.92|         3.8|           67|    446.46|       0.3|           18|     387.6|       0.3|            5|    435.54|       0.3|                 9|         384.66|            3.3|\n",
            "|2020-03-04|              0|         0.0|         0.0|          100|     15.34|     15.34|            0|       0.0|       0.0|            0|       0.0|       0.0|                 0|            0.0|            0.0|\n",
            "|2020-06-19|              0|         0.0|         0.0|          100|      25.3|      25.3|            0|       0.0|       0.0|            0|       0.0|       0.0|                 0|            0.0|            0.0|\n",
            "|2020-01-25|              2|      140.05|         0.3|           67|     350.3|       0.3|           18|    173.72|       0.3|            5|    272.23|       3.8|                 9|          153.8|            3.3|\n",
            "|2020-01-24|              2|      163.02|         0.3|           72|    735.17|       0.3|           15|    308.47|       0.3|            4|    275.69|       0.3|                 7|          184.1|            0.3|\n",
            "|2020-01-28|              2|      143.05|         3.3|           75|     587.3|       0.3|           13|    298.12|       0.3|            3|    156.36|       3.8|                 7|          294.8|            3.3|\n",
            "|2020-01-27|              2|      156.17|         3.3|           74|    425.92|       0.3|           13|     234.1|       0.3|            4|    318.29|      3.15|                 7|         238.55|           0.31|\n",
            "|2020-03-26|              0|         0.0|         0.0|            0|       0.0|       0.0|            0|       0.0|       0.0|            0|       0.0|       0.0|               100|           21.8|           21.8|\n",
            "|2020-01-23|              2|      194.29|         3.8|           74|    553.14|       0.3|           13|    312.88|       0.3|            3|    170.74|       0.3|                 7|         367.35|            0.3|\n",
            "|2020-01-26|              2|      186.35|         0.3|           68|    1722.3|       0.3|           17|    345.34|       0.3|            5|    173.16|       3.3|                 8|         217.86|            0.3|\n",
            "|2020-01-29|              2|      209.17|         3.3|           75|     499.8|       0.3|           13|    454.19|       0.3|            3|    231.92|       3.3|                 7|         227.66|            3.3|\n",
            "|2020-02-01|              0|         0.0|         0.0|           74|    164.33|       9.8|           22|     21.36|     12.36|            0|       0.0|       0.0|                 4|           11.3|           11.3|\n",
            "|2020-01-31|              2|      159.77|         0.3|           73|    906.35|       0.3|           15|     272.8|       0.3|            4|    135.36|       3.3|                 7|         293.16|            3.3|\n",
            "+----------+---------------+------------+------------+-------------+----------+----------+-------------+----------+----------+-------------+----------+----------+------------------+---------------+---------------+\n",
            "\n"
          ]
        }
      ]
    },
    {
      "cell_type": "code",
      "source": [
        "df_data_mart.write.parquet('data-mart.parquet', mode = 'overwrite')"
      ],
      "metadata": {
        "id": "PnegvKd_ONgJ"
      },
      "execution_count": 28,
      "outputs": []
    },
    {
      "cell_type": "markdown",
      "source": [
        "Дополнительно: также провести аналитику и построить график на тему «Как пройденное расстояние и количество пассажиров влияет на чаевые» в любом удобном инструменте."
      ],
      "metadata": {
        "id": "hyPvnobBSJyD"
      }
    },
    {
      "cell_type": "code",
      "source": [
        "import pandas as pd\n",
        "import matplotlib.pyplot as plt\n",
        "import seaborn as sns\n",
        "!pip install matplotlib seaborn"
      ],
      "metadata": {
        "colab": {
          "base_uri": "https://localhost:8080/"
        },
        "id": "q5uwuExJONR3",
        "outputId": "20dd0b35-4e1c-41fb-fa46-8de0bb8a7b67"
      },
      "execution_count": 38,
      "outputs": [
        {
          "output_type": "stream",
          "name": "stdout",
          "text": [
            "Requirement already satisfied: matplotlib in /usr/local/lib/python3.10/dist-packages (3.7.1)\n",
            "Requirement already satisfied: seaborn in /usr/local/lib/python3.10/dist-packages (0.12.2)\n",
            "Requirement already satisfied: contourpy>=1.0.1 in /usr/local/lib/python3.10/dist-packages (from matplotlib) (1.2.0)\n",
            "Requirement already satisfied: cycler>=0.10 in /usr/local/lib/python3.10/dist-packages (from matplotlib) (0.12.1)\n",
            "Requirement already satisfied: fonttools>=4.22.0 in /usr/local/lib/python3.10/dist-packages (from matplotlib) (4.45.1)\n",
            "Requirement already satisfied: kiwisolver>=1.0.1 in /usr/local/lib/python3.10/dist-packages (from matplotlib) (1.4.5)\n",
            "Requirement already satisfied: numpy>=1.20 in /usr/local/lib/python3.10/dist-packages (from matplotlib) (1.23.5)\n",
            "Requirement already satisfied: packaging>=20.0 in /usr/local/lib/python3.10/dist-packages (from matplotlib) (23.2)\n",
            "Requirement already satisfied: pillow>=6.2.0 in /usr/local/lib/python3.10/dist-packages (from matplotlib) (9.4.0)\n",
            "Requirement already satisfied: pyparsing>=2.3.1 in /usr/local/lib/python3.10/dist-packages (from matplotlib) (3.1.1)\n",
            "Requirement already satisfied: python-dateutil>=2.7 in /usr/local/lib/python3.10/dist-packages (from matplotlib) (2.8.2)\n",
            "Requirement already satisfied: pandas>=0.25 in /usr/local/lib/python3.10/dist-packages (from seaborn) (1.5.3)\n",
            "Requirement already satisfied: pytz>=2020.1 in /usr/local/lib/python3.10/dist-packages (from pandas>=0.25->seaborn) (2023.3.post1)\n",
            "Requirement already satisfied: six>=1.5 in /usr/local/lib/python3.10/dist-packages (from python-dateutil>=2.7->matplotlib) (1.16.0)\n"
          ]
        }
      ]
    },
    {
      "cell_type": "code",
      "source": [
        "df_data_mart = pd.read_parquet('data-mart.parquet')\n",
        "print(df_data_mart.head())"
      ],
      "metadata": {
        "colab": {
          "base_uri": "https://localhost:8080/"
        },
        "id": "rvyEDFrYWmXx",
        "outputId": "a0e1507e-b46e-400c-8810-73ca653faea8"
      },
      "execution_count": 44,
      "outputs": [
        {
          "output_type": "stream",
          "name": "stdout",
          "text": [
            "         date percentage_zero  zero_max_amm  zero_min_amm percentage_1p  \\\n",
            "0  2009-01-01               0          0.00           0.0            79   \n",
            "1  2020-01-04               2        152.54           0.3            66   \n",
            "2  2008-12-31               0          0.00           0.0            80   \n",
            "3  2020-01-03               2        187.42           0.3            69   \n",
            "4  2020-01-07               2        114.80           0.3            74   \n",
            "\n",
            "   max_amm_1p  min_amm_1p percentage_2p  max_amm_2p  min_amm_2p percentage_3p  \\\n",
            "0       74.80         3.3             5       31.30        31.3             5   \n",
            "1      965.80         0.3            18      481.30         0.3             5   \n",
            "2       73.70         7.3             0        0.00         0.0            10   \n",
            "3     1242.30         0.3            16      370.30         0.3             5   \n",
            "4      410.67         0.3            14      312.96         3.3             3   \n",
            "\n",
            "   max_amm_3p  min_amm_3p percentage_4p_plus  max_amm_4p_plus  min_amm_4p_plus  \n",
            "0       13.80       13.80                 11            61.42              9.3  \n",
            "1      158.80        0.30                  9           577.80              0.3  \n",
            "2        7.25        7.25                 10            55.30             55.3  \n",
            "3      409.59        3.80                  9           226.10              0.3  \n",
            "4      225.30        3.30                  7           242.80              3.3  \n"
          ]
        }
      ]
    },
    {
      "cell_type": "code",
      "source": [
        "# Вывод всех столбцов DataFrame\n",
        "print(df_data_mart.columns)"
      ],
      "metadata": {
        "colab": {
          "base_uri": "https://localhost:8080/"
        },
        "id": "g3GCGjeWW-M3",
        "outputId": "ef603bc6-e067-4849-a862-caf393fc040d"
      },
      "execution_count": 46,
      "outputs": [
        {
          "output_type": "stream",
          "name": "stdout",
          "text": [
            "Index(['date', 'percentage_zero', 'zero_max_amm', 'zero_min_amm',\n",
            "       'percentage_1p', 'max_amm_1p', 'min_amm_1p', 'percentage_2p',\n",
            "       'max_amm_2p', 'min_amm_2p', 'percentage_3p', 'max_amm_3p', 'min_amm_3p',\n",
            "       'percentage_4p_plus', 'max_amm_4p_plus', 'min_amm_4p_plus'],\n",
            "      dtype='object')\n"
          ]
        }
      ]
    },
    {
      "cell_type": "code",
      "source": [
        "# Вычисление матрицы корреляций для определенных столбцов\n",
        "columns_of_interest = ['percentage_zero', 'zero_max_amm', 'zero_min_amm', 'percentage_1p', 'max_amm_1p', 'min_amm_1p', 'percentage_2p', 'max_amm_2p', 'min_amm_2p', 'percentage_3p', 'max_amm_3p', 'min_amm_3p', 'percentage_4p_plus', 'max_amm_4p_plus', 'min_amm_4p_plus']\n",
        "correlation_matrix = df_data_mart[columns_of_interest].corr()\n",
        "\n",
        "# Вывод результатов\n",
        "print(correlation_matrix)"
      ],
      "metadata": {
        "colab": {
          "base_uri": "https://localhost:8080/"
        },
        "id": "Ra1QVI8SXRyM",
        "outputId": "a861e0d3-de68-497e-c11e-9a8f4a5ca3ad"
      },
      "execution_count": 48,
      "outputs": [
        {
          "output_type": "stream",
          "name": "stdout",
          "text": [
            "                 zero_max_amm  zero_min_amm  max_amm_1p  min_amm_1p  \\\n",
            "zero_max_amm         1.000000      0.455045    0.478400   -0.617265   \n",
            "zero_min_amm         0.455045      1.000000    0.094994   -0.346800   \n",
            "max_amm_1p           0.478400      0.094994    1.000000   -0.365044   \n",
            "min_amm_1p          -0.617265     -0.346800   -0.365044    1.000000   \n",
            "max_amm_2p           0.835106      0.432208    0.486414   -0.660283   \n",
            "min_amm_2p          -0.253983     -0.147091   -0.133195    0.016486   \n",
            "max_amm_3p           0.685366      0.327902    0.372974   -0.621209   \n",
            "min_amm_3p          -0.215191     -0.099584   -0.137471   -0.220551   \n",
            "max_amm_4p_plus      0.660352      0.378596    0.479290   -0.620738   \n",
            "min_amm_4p_plus     -0.176386     -0.084124   -0.135528    0.018706   \n",
            "\n",
            "                 max_amm_2p  min_amm_2p  max_amm_3p  min_amm_3p  \\\n",
            "zero_max_amm       0.835106   -0.253983    0.685366   -0.215191   \n",
            "zero_min_amm       0.432208   -0.147091    0.327902   -0.099584   \n",
            "max_amm_1p         0.486414   -0.133195    0.372974   -0.137471   \n",
            "min_amm_1p        -0.660283    0.016486   -0.621209   -0.220551   \n",
            "max_amm_2p         1.000000   -0.229850    0.831409   -0.207931   \n",
            "min_amm_2p        -0.229850    1.000000   -0.231444    0.351092   \n",
            "max_amm_3p         0.831409   -0.231444    1.000000   -0.201138   \n",
            "min_amm_3p        -0.207931    0.351092   -0.201138    1.000000   \n",
            "max_amm_4p_plus    0.799915   -0.202071    0.706761   -0.244885   \n",
            "min_amm_4p_plus   -0.191964    0.127283   -0.183585    0.136491   \n",
            "\n",
            "                 max_amm_4p_plus  min_amm_4p_plus  \n",
            "zero_max_amm            0.660352        -0.176386  \n",
            "zero_min_amm            0.378596        -0.084124  \n",
            "max_amm_1p              0.479290        -0.135528  \n",
            "min_amm_1p             -0.620738         0.018706  \n",
            "max_amm_2p              0.799915        -0.191964  \n",
            "min_amm_2p             -0.202071         0.127283  \n",
            "max_amm_3p              0.706761        -0.183585  \n",
            "min_amm_3p             -0.244885         0.136491  \n",
            "max_amm_4p_plus         1.000000        -0.150691  \n",
            "min_amm_4p_plus        -0.150691         1.000000  \n"
          ]
        },
        {
          "output_type": "stream",
          "name": "stderr",
          "text": [
            "<ipython-input-48-0dd6c8210599>:3: FutureWarning: The default value of numeric_only in DataFrame.corr is deprecated. In a future version, it will default to False. Select only valid columns or specify the value of numeric_only to silence this warning.\n",
            "  correlation_matrix = df_data_mart[columns_of_interest].corr()\n"
          ]
        }
      ]
    },
    {
      "cell_type": "code",
      "source": [
        "plt.figure(figsize=(10, 6))"
      ],
      "metadata": {
        "colab": {
          "base_uri": "https://localhost:8080/",
          "height": 52
        },
        "id": "rimzd6bXXjl7",
        "outputId": "9bd85e0c-62d2-4415-8dbc-cfbd681fc1ab"
      },
      "execution_count": 49,
      "outputs": [
        {
          "output_type": "execute_result",
          "data": {
            "text/plain": [
              "<Figure size 1000x600 with 0 Axes>"
            ]
          },
          "metadata": {},
          "execution_count": 49
        },
        {
          "output_type": "display_data",
          "data": {
            "text/plain": [
              "<Figure size 1000x600 with 0 Axes>"
            ]
          },
          "metadata": {}
        }
      ]
    },
    {
      "cell_type": "code",
      "source": [
        "sc = plt.scatter(df['trip_distance'], df['passenger_count'], c=df['tip_amount'], cmap='coolwarm', s=30, alpha=0.7)"
      ],
      "metadata": {
        "colab": {
          "base_uri": "https://localhost:8080/",
          "height": 430
        },
        "id": "WR1wlFQiXjiq",
        "outputId": "829a394e-0890-457f-9723-aca2d8726569"
      },
      "execution_count": 50,
      "outputs": [
        {
          "output_type": "display_data",
          "data": {
            "text/plain": [
              "<Figure size 640x480 with 1 Axes>"
            ],
            "image/png": "[encoded data removed]"
          },
          "metadata": {}
        }
      ]
    },
    {
      "cell_type": "code",
      "source": [
        "# Создадим график\n",
        "plt.figure(figsize=(10, 6))\n",
        "\n",
        "# Используем scatter для отображения зависимости на графике\n",
        "sc = plt.scatter(df['trip_distance'], df['passenger_count'], c=df['tip_amount'], cmap='coolwarm', s=30, alpha=0.7)\n",
        "\n",
        "plt.xlabel('trip_distance')\n",
        "plt.ylabel('passenger_count')\n",
        "plt.title('Зависимость tip_amount от trip_distance и passenger_count')\n",
        "\n",
        "# Создаем цветовую шкалу (colorbar) на основе объекта \"mappable\"\n",
        "cbar = plt.colorbar(sc, label='tip_amount')\n",
        "\n",
        "# Добавим сетку\n",
        "plt.grid(True)\n",
        "\n",
        "# Сохраним график в формате PNG\n",
        "plt.savefig('graph.png')\n",
        "\n",
        "plt.show()"
      ],
      "metadata": {
        "colab": {
          "base_uri": "https://localhost:8080/",
          "height": 564
        },
        "id": "tqHWocsMYGRl",
        "outputId": "8ac1a49d-691f-4e7a-e7a2-e776ae202a5e"
      },
      "execution_count": 52,
      "outputs": [
        {
          "output_type": "display_data",
          "data": {
            "text/plain": [
              "<Figure size 1000x600 with 2 Axes>"
            ],
            "image/png": "[encoded data removed]"
          },
          "metadata": {}
        }
      ]
    }
  ]
}